{
 "cells": [
  {
   "cell_type": "code",
   "execution_count": null,
   "metadata": {
    "collapsed": true
   },
   "outputs": [],
   "source": [
    "import config\n",
    "import gzip\n",
    "import lib_db\n",
    "import lib_nlp\n",
    "import datetime\n",
    "import lib_vk\n",
    "from dateutil.relativedelta import relativedelta"
   ]
  },
  {
   "cell_type": "code",
   "execution_count": null,
   "metadata": {
    "collapsed": true
   },
   "outputs": [],
   "source": [
    "from_datetime = datetime.datetime(2017,7,25,0,0,0)"
   ]
  },
  {
   "cell_type": "code",
   "execution_count": null,
   "metadata": {
    "collapsed": true
   },
   "outputs": [],
   "source": [
    "data = {}\n",
    "import pickle\n",
    "datafile = 'saved_data.pkl'\n",
    "def save_data():\n",
    "    global data\n",
    "    with open(datafile, 'wb') as f:\n",
    "        pickle.dump(data, f)\n",
    "def load_data():\n",
    "    global data\n",
    "    with open(datafile, 'rb') as f:\n",
    "        data = pickle.load(f)"
   ]
  },
  {
   "cell_type": "code",
   "execution_count": null,
   "metadata": {
    "collapsed": false
   },
   "outputs": [],
   "source": [
    "load_data()"
   ]
  },
  {
   "cell_type": "code",
   "execution_count": null,
   "metadata": {
    "collapsed": false
   },
   "outputs": [],
   "source": [
    "for name in data.keys():\n",
    "    data[name]['total'] = {}\n",
    "    for k in ['post_count', 'likes', 'reposts', 'comments', 'subscribers_count']:\n",
    "        data[name]['total'][k] = 0\n",
    "        for social in ['twitter', 'fb', 'vk']:\n",
    "            data[name]['total'][k] += data[name].get(social, {}).get(k, 0)\n",
    "    data[name]['sentiments_count'] = {'pos': 0, 'neg': 0}\n",
    "    for c in data[name]['vk']['comments_objects']:\n",
    "        if c['sentiment'] == 'pos':\n",
    "            data[name]['sentiments_count']['pos'] += 1\n",
    "        if c['sentiment'] == 'neg':\n",
    "            data[name]['sentiments_count']['neg'] += 1"
   ]
  },
  {
   "cell_type": "code",
   "execution_count": null,
   "metadata": {
    "collapsed": true
   },
   "outputs": [],
   "source": [
    "import pandas as pd\n",
    "import matplotlib as mpl\n",
    "# mpl.rc('font', family='Verdana') # Русский язык локально\n",
    "mpl.rc('font', family='DejaVu Sans') # Русский язык на сервере\n",
    "import matplotlib.pyplot as plt\n",
    "%matplotlib inline"
   ]
  },
  {
   "cell_type": "code",
   "execution_count": null,
   "metadata": {
    "collapsed": false
   },
   "outputs": [],
   "source": [
    "labels = 'ВКонтакте', 'Twitter', 'Facebook'\n",
    "sizes = [215, 130, 245]\n",
    "colors = ['gold', 'yellowgreen', 'lightskyblue']\n",
    "# colors = ['gold', 'yellowgreen', 'lightcoral', 'lightskyblue']\n",
    "explode = (0.1, 0, 0)  # explode 1st slice\n",
    "plt.pie(sizes, explode=explode, labels=labels, colors=colors, autopct='%1.1f%%', shadow=True, startangle=140)\n",
    "plt.title('Всего: 123 публикации')\n",
    "plt.axis('equal')\n",
    "plt.show()"
   ]
  },
  {
   "cell_type": "code",
   "execution_count": null,
   "metadata": {
    "collapsed": false
   },
   "outputs": [],
   "source": [
    "import pandas as pd\n",
    "from collections import defaultdict\n",
    "def prepare_df(data, key_name):\n",
    "    indexes = list(data.keys())\n",
    "    vals = defaultdict(list)\n",
    "    df_data = {}\n",
    "    for social in ['twitter', 'fb', 'vk']:\n",
    "        for name in data.keys():\n",
    "            vals[social].append(data[name][social][key_name])\n",
    "        df_data[social] = pd.Series(vals[social], index=indexes)\n",
    "    df = pd.DataFrame(df_data)\n",
    "    return df"
   ]
  },
  {
   "cell_type": "code",
   "execution_count": null,
   "metadata": {
    "collapsed": false
   },
   "outputs": [],
   "source": [
    "df = prepare_df(data, 'post_count')\n",
    "df.plot(kind='bar', stacked=True, figsize=(6, 5), title='Количество постов')"
   ]
  },
  {
   "cell_type": "code",
   "execution_count": null,
   "metadata": {
    "collapsed": false
   },
   "outputs": [],
   "source": [
    "df['Всего'] = df.sum(axis=1)\n",
    "df.sort_values('Всего', ascending=False)"
   ]
  },
  {
   "cell_type": "code",
   "execution_count": null,
   "metadata": {
    "collapsed": true
   },
   "outputs": [],
   "source": [
    "df = prepare_df(data, 'subscribers_count')"
   ]
  },
  {
   "cell_type": "code",
   "execution_count": null,
   "metadata": {
    "collapsed": false
   },
   "outputs": [],
   "source": [
    "df[df.index != 'bank'].plot(kind='bar', stacked=True, figsize=(6, 5), title='Количество подписчиков')"
   ]
  },
  {
   "cell_type": "code",
   "execution_count": null,
   "metadata": {
    "collapsed": true
   },
   "outputs": [],
   "source": [
    "df['Всего'] = df.sum(axis=1)"
   ]
  },
  {
   "cell_type": "code",
   "execution_count": null,
   "metadata": {
    "collapsed": false
   },
   "outputs": [],
   "source": [
    "df.sort_values('Всего', ascending=False)"
   ]
  },
  {
   "cell_type": "code",
   "execution_count": null,
   "metadata": {
    "collapsed": true
   },
   "outputs": [],
   "source": [
    "from collections import defaultdict\n",
    "def prepare_df(data):\n",
    "    indexes = list(data.keys())\n",
    "    vals = defaultdict(list)\n",
    "    df_data = {}\n",
    "    for k in ['likes', 'reposts', 'comments']:\n",
    "        for name in data.keys():\n",
    "            vals[k].append(100 * data[name]['total'][k] / data[name]['total']['post_count'] / data[name]['total']['subscribers_count'])\n",
    "        df_data[k] = pd.Series(vals[k], index=indexes)\n",
    "    df = pd.DataFrame(df_data)\n",
    "    return df"
   ]
  },
  {
   "cell_type": "code",
   "execution_count": null,
   "metadata": {
    "collapsed": false
   },
   "outputs": [],
   "source": [
    "df = prepare_df(data)"
   ]
  },
  {
   "cell_type": "code",
   "execution_count": null,
   "metadata": {
    "collapsed": false,
    "scrolled": true
   },
   "outputs": [],
   "source": [
    "df[df.index != 'bank'].plot(kind='bar', stacked=True, figsize=(12, 4), title='Индекс Вовлеченности')"
   ]
  },
  {
   "cell_type": "code",
   "execution_count": null,
   "metadata": {
    "collapsed": false
   },
   "outputs": [],
   "source": [
    "df['Всего'] = df.sum(axis=1)\n",
    "df.sort_values('Всего', ascending=False)"
   ]
  },
  {
   "cell_type": "code",
   "execution_count": null,
   "metadata": {
    "collapsed": true
   },
   "outputs": [],
   "source": [
    "from collections import defaultdict\n",
    "def prepare_df(data):\n",
    "    indexes = list(data.keys())\n",
    "    vals = defaultdict(list)\n",
    "    df_data = {}\n",
    "    for social in ['twitter', 'fb', 'vk']:\n",
    "        for name in data.keys():\n",
    "            sum_reactions = 0\n",
    "            for k in ['likes', 'reposts', 'comments']:\n",
    "                sum_reactions += data[name][social].get(k, 0)\n",
    "            vals[social].append(100 * sum_reactions / data[name][social]['post_count'] / data[name][social]['subscribers_count'])\n",
    "        df_data[social] = pd.Series(vals[social], index=indexes)\n",
    "    df = pd.DataFrame(df_data)\n",
    "    return df"
   ]
  },
  {
   "cell_type": "code",
   "execution_count": null,
   "metadata": {
    "collapsed": false
   },
   "outputs": [],
   "source": [
    "df = prepare_df(data)\n",
    "df['Всего'] = df.mean(axis=1)\n",
    "df.sort_values('Всего', ascending=False)"
   ]
  },
  {
   "cell_type": "code",
   "execution_count": null,
   "metadata": {
    "collapsed": false
   },
   "outputs": [],
   "source": [
    "from math import sqrt"
   ]
  },
  {
   "cell_type": "code",
   "execution_count": null,
   "metadata": {
    "collapsed": false
   },
   "outputs": [],
   "source": [
    "cnt = 0\n",
    "def draw_scatter(data, social):\n",
    "    points_x = []\n",
    "    points_y = []\n",
    "    names = []\n",
    "    sizes = []\n",
    "    sizes2 = []\n",
    "    for name in data.keys():\n",
    "        if name == 'bank':\n",
    "            continue\n",
    "        d = data[name][social]\n",
    "        points_x.append(100000*d['reposts']/d['post_count']/d['subscribers_count'])\n",
    "        points_y.append(100*(d['likes'] + d.get('comments', 0))/d['post_count']/d['subscribers_count'])\n",
    "        names.append(name)\n",
    "#         sizes.append(80*int(sqrt(int((d['post_count'] + d['reposts']*10 + d['likes'] + d.get('comments', 0)) / 10))))\n",
    "        sizes.append(int(sqrt(d['subscribers_count'])) * 1)\n",
    "#     plt.subplots_adjust(bottom = 0.1)\n",
    "#     ax.scatter(points_x, points_y, marker='o', c=range(len(sizes)), s=sizes, cmap=plt.get_cmap('Spectral'))\n",
    "#     ax.scatter(points_x, points_y, marker='o', c=[20]*(len(sizes)), s=sizes2, cmap=plt.get_cmap('Greys'))\n",
    "    ax.scatter(points_x, points_y, marker='o', c=[0]*(len(sizes)), s=sizes, cmap=plt.get_cmap('Spectral'))\n",
    "    ax.set_title(social)\n",
    "    ax.set_xlabel(\"Индекс Виральности\")\n",
    "    ax.set_ylabel(\"Индекс Вовлечённости\")\n",
    "    for label, x, y in zip(names, points_x, points_y):\n",
    "        ax.annotate(\n",
    "            label,\n",
    "            xy=(x, y), xytext=(-20, 20),\n",
    "            textcoords='offset points', ha='right', va='bottom',\n",
    "            bbox=dict(boxstyle='round,pad=0.5', fc='yellow', alpha=0.5),\n",
    "            arrowprops=dict(arrowstyle = '->', connectionstyle='arc3,rad=0'))\n",
    "#     plt.subplots_adjust(left=3, right=4, top=3.5, bottom=2)"
   ]
  },
  {
   "cell_type": "code",
   "execution_count": null,
   "metadata": {
    "collapsed": false,
    "scrolled": false
   },
   "outputs": [],
   "source": [
    "plt.figure()\n",
    "fig = plt.figure(figsize=(12, 12))\n",
    "indx = 1\n",
    "for social in ['total', 'twitter', 'fb', 'vk']:\n",
    "    ax = fig.add_subplot(2,2,indx) # one row, one column, first plot\n",
    "    draw_scatter(data, social)\n",
    "    indx += 1"
   ]
  },
  {
   "cell_type": "code",
   "execution_count": null,
   "metadata": {
    "collapsed": true
   },
   "outputs": [],
   "source": [
    "import pandas as pd\n",
    "from collections import defaultdict\n",
    "def prepare_df(comments):\n",
    "    indexes = []\n",
    "    comments = sorted(comments, key=lambda x: x['date'], reverse=False)\n",
    "    from_date_iter = from_datetime\n",
    "    while from_date_iter < datetime.datetime.utcnow():\n",
    "        c_date_str = from_date_iter.strftime('%Y-%m-%d')\n",
    "        from_date_iter += relativedelta(days=1)\n",
    "        indexes.append(c_date_str)           \n",
    "    df_data = {}\n",
    "#     for sent in ['neg', 'pos', 'neutral', 'unknown']:\n",
    "    for sent in ['neg', 'pos']:\n",
    "        vals_map = defaultdict(int)\n",
    "        for c in comments:\n",
    "            if c['sentiment'] == sent:\n",
    "                c_date = datetime.datetime.fromtimestamp(int(c['date']))\n",
    "                c_date_str = c_date.strftime('%Y-%m-%d')\n",
    "                vals_map[c_date_str] += 1\n",
    "        vals = []\n",
    "        for k in indexes:\n",
    "            vals.append(vals_map.get(k, 0))\n",
    "        df_data[sent] = pd.Series(vals, index=indexes)\n",
    "    df = pd.DataFrame(df_data)\n",
    "    return df"
   ]
  },
  {
   "cell_type": "code",
   "execution_count": null,
   "metadata": {
    "collapsed": false,
    "scrolled": false
   },
   "outputs": [],
   "source": [
    "plt.figure()\n",
    "fig = plt.figure(figsize=(15, 15))\n",
    "indx = 1\n",
    "for name in data.keys():\n",
    "#     ax = fig.add_subplot(1, len(data.keys()),indx) # one row, one column, first plot\n",
    "    df = prepare_df(data[name]['vk']['comments_objects'])\n",
    "    df.plot(kind='bar', stacked=True, figsize=(12, 5), title=name)\n",
    "    indx += 1"
   ]
  },
  {
   "cell_type": "code",
   "execution_count": null,
   "metadata": {
    "collapsed": true
   },
   "outputs": [],
   "source": [
    "import pandas as pd\n",
    "from collections import defaultdict\n",
    "def prepare_df(data):\n",
    "    indexes = list(data.keys())\n",
    "    vals = defaultdict(list)\n",
    "    df_data = {}\n",
    "    for sent in ['neg', 'pos']:\n",
    "        for name in data.keys():\n",
    "            total_com_count = data[name]['sentiments_count']['neg'] + data[name]['sentiments_count']['pos']\n",
    "            vals[sent].append(data[name]['sentiments_count'][sent]/total_com_count)\n",
    "        df_data[sent] = pd.Series(vals[sent], index=indexes)\n",
    "    df = pd.DataFrame(df_data)\n",
    "    return df"
   ]
  },
  {
   "cell_type": "code",
   "execution_count": null,
   "metadata": {
    "collapsed": false
   },
   "outputs": [],
   "source": [
    "df = prepare_df(data)\n",
    "df = df.sort_values('neg')\n",
    "df.plot(kind='bar', stacked=True, figsize=(10, 4), title='')"
   ]
  },
  {
   "cell_type": "code",
   "execution_count": null,
   "metadata": {
    "collapsed": true
   },
   "outputs": [],
   "source": [
    "cnt = 0\n",
    "def draw_scatter(data):\n",
    "    points_x = []\n",
    "    points_y = []\n",
    "    names = []\n",
    "    sizes = []\n",
    "    sizes2 = []\n",
    "    for name in data.keys():\n",
    "        d = data[name]['vk']\n",
    "        sc = data[name]['sentiments_count']\n",
    "        sent_x = (sc['pos'] - sc['neg']) / (sc['pos'] + sc['neg'])\n",
    "        points_x.append(sent_x)\n",
    "        points_y.append(d['comments'])\n",
    "        names.append(name)\n",
    "#         sizes.append(int((d['post_count'] + d['reposts']*10 + d['likes'] + d.get('comments', 0)) / 1))\n",
    "        sizes.append(int((d['views'])/100))\n",
    "        sizes2.append((d['post_count']) * 10)\n",
    "#     plt.subplots_adjust(bottom = 0.1)\n",
    "#     ax.scatter(points_x, points_y, marker='o', c=range(len(sizes)), s=sizes, cmap=plt.get_cmap('Spectral'))\n",
    "    ax.scatter(points_x, points_y, marker='o', c=[20]*(len(sizes)), s=sizes, cmap=plt.get_cmap('Greys'))\n",
    "    ax.scatter(points_x, points_y, marker='o', c=[0]*(len(sizes)), s=sizes2, cmap=plt.get_cmap('Spectral'))\n",
    "    ax.set_title(social)\n",
    "    ax.set_xlabel(\"тональность\")\n",
    "    ax.set_ylabel(\"комментарии\")\n",
    "    for label, x, y in zip(names, points_x, points_y):\n",
    "        ax.annotate(\n",
    "            label,\n",
    "            xy=(x, y), xytext=(-20, 20),\n",
    "            textcoords='offset points', ha='right', va='bottom',\n",
    "            bbox=dict(boxstyle='round,pad=0.5', fc='yellow', alpha=0.5),\n",
    "            arrowprops=dict(arrowstyle = '->', connectionstyle='arc3,rad=0'))\n",
    "#     plt.subplots_adjust(left=3, right=4, top=3.5, bottom=2)"
   ]
  },
  {
   "cell_type": "code",
   "execution_count": null,
   "metadata": {
    "collapsed": false
   },
   "outputs": [],
   "source": [
    "plt.figure()\n",
    "fig = plt.figure(figsize=(7, 7))\n",
    "ax = fig.add_subplot(1,1,1) # one row, one column, first plot\n",
    "draw_scatter(data)"
   ]
  },
  {
   "cell_type": "code",
   "execution_count": null,
   "metadata": {
    "collapsed": false
   },
   "outputs": [],
   "source": [
    "len(data['bank']['vk']['comments_objects'])"
   ]
  },
  {
   "cell_type": "code",
   "execution_count": null,
   "metadata": {
    "collapsed": false
   },
   "outputs": [],
   "source": [
    "from collections import Counter"
   ]
  },
  {
   "cell_type": "code",
   "execution_count": null,
   "metadata": {
    "collapsed": false
   },
   "outputs": [],
   "source": [
    "top_obj = Counter()\n",
    "obj_text_map = defaultdict(list)\n",
    "for c in data['bank']['vk']['comments_objects'][:150]:\n",
    "    try:\n",
    "        unused, objs = ner.get_objects(lib_nlp.vk_remove_mention(c['text']), need_clean=False)\n",
    "    except:\n",
    "        continue\n",
    "    for o in objs:\n",
    "        obj_text_map[o].append(c)\n",
    "    print(objs)\n",
    "    top_obj.update(objs)"
   ]
  },
  {
   "cell_type": "code",
   "execution_count": null,
   "metadata": {
    "collapsed": false
   },
   "outputs": [],
   "source": [
    "top_obj.most_common(30)"
   ]
  },
  {
   "cell_type": "code",
   "execution_count": null,
   "metadata": {
    "collapsed": true
   },
   "outputs": [],
   "source": [
    "def smart_part(obj, text):\n",
    "    text = text.replace(',', '.').lower()\n",
    "    parts = text.split('.')\n",
    "    for p in parts:\n",
    "        if obj in p:\n",
    "            p = p.strip()\n",
    "            words = p.split(' ')\n",
    "            for i in range(len(words)):\n",
    "                w = words[i]\n",
    "                if obj in w:\n",
    "                    from_pos = max(0, i - 4)\n",
    "                    to_pos = min(len(words), i + 4)\n",
    "                    return ' '.join(words[from_pos:to_pos])\n",
    "    return ''"
   ]
  },
  {
   "cell_type": "code",
   "execution_count": null,
   "metadata": {
    "collapsed": false
   },
   "outputs": [],
   "source": [
    "for obj, cnt in top_obj.most_common(20):\n",
    "    print(obj)\n",
    "    good_cnt = 0\n",
    "    for c in obj_text_map[obj][0:5]:\n",
    "        if obj in c['text'].lower():\n",
    "            short_txt = smart_part(obj, c['text'])\n",
    "            if len(short_txt) > 0:\n",
    "                good_cnt += 1\n",
    "            print(short_txt)\n",
    "        if good_cnt >= 4:\n",
    "            break"
   ]
  }
 ],
 "metadata": {
  "anaconda-cloud": {},
  "kernelspec": {
   "display_name": "Python [Root]",
   "language": "python",
   "name": "Python [Root]"
  },
  "language_info": {
   "codemirror_mode": {
    "name": "ipython",
    "version": 3
   },
   "file_extension": ".py",
   "mimetype": "text/x-python",
   "name": "python",
   "nbconvert_exporter": "python",
   "pygments_lexer": "ipython3",
   "version": "3.5.2"
  }
 },
 "nbformat": 4,
 "nbformat_minor": 2
}
