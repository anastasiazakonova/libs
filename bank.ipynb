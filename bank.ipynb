{
 "cells": [
  {
   "cell_type": "code",
   "execution_count": null,
   "metadata": {
    "collapsed": true
   },
   "outputs": [],
   "source": [
    "import config\n",
    "import gzip\n",
    "import lib_db\n",
    "import lib_nlp\n",
    "import datetime\n",
    "import lib_vk\n",
    "import datetime\n",
    "import pickle"
   ]
  },
  {
   "cell_type": "code",
   "execution_count": null,
   "metadata": {
    "collapsed": true
   },
   "outputs": [],
   "source": [
    "data = {}"
   ]
  },
  {
   "cell_type": "code",
   "execution_count": null,
   "metadata": {
    "collapsed": false
   },
   "outputs": [],
   "source": [
    "import json, pickle\n",
    "datafile = 'saved_data.pkl'\n",
    "def save_data():\n",
    "    with open(datafile, 'wb') as f:\n",
    "        pickle.dump(data, f)\n",
    "        \n",
    "def load_data():\n",
    "    global data\n",
    "    with open(datafile, 'rb') as f:\n",
    "        data = pickle.load(f)"
   ]
  },
  {
   "cell_type": "code",
   "execution_count": null,
   "metadata": {
    "collapsed": true
   },
   "outputs": [],
   "source": [
    "load_data()"
   ]
  },
  {
   "cell_type": "code",
   "execution_count": null,
   "metadata": {
    "collapsed": false
   },
   "outputs": [],
   "source": [
    "import vk_api\n",
    "token = ''\n",
    "vk_session = vk_api.VkApi(token=token)\n",
    "vk = vk_session.get_api()"
   ]
  },
  {
   "cell_type": "code",
   "execution_count": null,
   "metadata": {
    "collapsed": true
   },
   "outputs": [],
   "source": [
    "gid = 666  # group_id"
   ]
  },
  {
   "cell_type": "code",
   "execution_count": null,
   "metadata": {
    "collapsed": false
   },
   "outputs": [],
   "source": [
    "print(lib_vk.get_group_info(gid))"
   ]
  },
  {
   "cell_type": "code",
   "execution_count": null,
   "metadata": {
    "collapsed": false
   },
   "outputs": [],
   "source": [
    "user_list = lib_vk.get_group_users(gid, iterations=190, debuglines=True, skip_cache=False)"
   ]
  },
  {
   "cell_type": "code",
   "execution_count": null,
   "metadata": {
    "collapsed": false
   },
   "outputs": [],
   "source": [
    "user_list[200]"
   ]
  },
  {
   "cell_type": "code",
   "execution_count": null,
   "metadata": {
    "collapsed": true
   },
   "outputs": [],
   "source": [
    "import pprint"
   ]
  },
  {
   "cell_type": "code",
   "execution_count": null,
   "metadata": {
    "collapsed": false
   },
   "outputs": [],
   "source": [
    "for u in user_list:\n",
    "    if 'schools' in u:\n",
    "        pprint.pprint(u)\n",
    "        break"
   ]
  },
  {
   "cell_type": "code",
   "execution_count": null,
   "metadata": {
    "collapsed": true
   },
   "outputs": [],
   "source": [
    "from collections import Counter"
   ]
  },
  {
   "cell_type": "code",
   "execution_count": null,
   "metadata": {
    "collapsed": true
   },
   "outputs": [],
   "source": [
    "cnt_city = Counter()\n",
    "cnt_university_name = Counter()\n",
    "cnt_education_status = Counter()\n",
    "cnt_graduation = Counter()\n",
    "cnt_faculty_name = Counter()\n",
    "cnt_sex = Counter()\n",
    "cnt_age = Counter()"
   ]
  },
  {
   "cell_type": "code",
   "execution_count": null,
   "metadata": {
    "collapsed": false
   },
   "outputs": [],
   "source": [
    "for u in user_list:\n",
    "    city = u.get('city', {}).get('title', False)\n",
    "    if city:\n",
    "        cnt_city.update([city])\n",
    "        \n",
    "    university_name = u.get('university_name', False)\n",
    "    if university_name:\n",
    "        cnt_university_name.update([university_name])\n",
    "        \n",
    "    education_status = u.get('education_status', False)\n",
    "    if education_status:\n",
    "        cnt_education_status.update([education_status])\n",
    "        \n",
    "    graduation = u.get('graduation', False)\n",
    "    if graduation:\n",
    "        cnt_graduation.update([graduation])\n",
    "        \n",
    "    faculty_name = u.get('faculty_name', False)\n",
    "    if faculty_name:\n",
    "        cnt_faculty_name.update([faculty_name])\n",
    "        \n",
    "    sex = u.get('sex', False)\n",
    "    if sex:\n",
    "        cnt_sex.update(['female' if sex == 1 else 'male'])"
   ]
  },
  {
   "cell_type": "code",
   "execution_count": null,
   "metadata": {
    "collapsed": false
   },
   "outputs": [],
   "source": [
    "cnt_sex.most_common(3)"
   ]
  },
  {
   "cell_type": "code",
   "execution_count": null,
   "metadata": {
    "collapsed": false
   },
   "outputs": [],
   "source": [
    "cnt_city.most_common(10)"
   ]
  },
  {
   "cell_type": "code",
   "execution_count": null,
   "metadata": {
    "collapsed": false
   },
   "outputs": [],
   "source": [
    "import pandas as pd\n",
    "def prepare_df(some_cnt, total_cnt):\n",
    "    indexes = []\n",
    "    vals = []\n",
    "    for v, c in some_cnt.most_common(20):\n",
    "        indexes.append(v)\n",
    "        vals.append(int(c)*100/total_cnt)        \n",
    "    df_data = {}\n",
    "    df_data['percent'] = pd.Series(vals, index=indexes)\n",
    "    df = pd.DataFrame(df_data)\n",
    "    return df"
   ]
  },
  {
   "cell_type": "code",
   "execution_count": null,
   "metadata": {
    "collapsed": true
   },
   "outputs": [],
   "source": [
    "import pandas as pd\n",
    "import matplotlib as mpl\n",
    "# mpl.rc('font', family='Verdana') \n",
    "mpl.rc('font', family='DejaVu Sans') \n",
    "import matplotlib.pyplot as plt\n",
    "%matplotlib inline"
   ]
  },
  {
   "cell_type": "code",
   "execution_count": null,
   "metadata": {
    "collapsed": false
   },
   "outputs": [],
   "source": [
    "df = prepare_df(cnt_city, len(user_list))\n",
    "df.plot(kind='barh', stacked=True, figsize=(6, 5), title='Топ городов')"
   ]
  },
  {
   "cell_type": "code",
   "execution_count": null,
   "metadata": {
    "collapsed": false
   },
   "outputs": [],
   "source": [
    "df = prepare_df(cnt_sex, len(user_list))\n",
    "df.plot(kind='barh', stacked=True, figsize=(6, 5), title='Пол')"
   ]
  },
  {
   "cell_type": "code",
   "execution_count": null,
   "metadata": {
    "collapsed": false
   },
   "outputs": [],
   "source": [
    "df = prepare_df(cnt_university_name, len(user_list))\n",
    "df.plot(kind='barh', stacked=True, figsize=(6, 5), title='Университет')"
   ]
  },
  {
   "cell_type": "code",
   "execution_count": null,
   "metadata": {
    "collapsed": false
   },
   "outputs": [],
   "source": [
    "df = prepare_df(cnt_education_status, len(user_list))\n",
    "df.plot(kind='barh', stacked=True, figsize=(6, 5), title='Образование')"
   ]
  },
  {
   "cell_type": "code",
   "execution_count": null,
   "metadata": {
    "collapsed": false
   },
   "outputs": [],
   "source": [
    "df = prepare_df(cnt_graduation, len(user_list))\n",
    "df.plot(kind='barh', stacked=True, figsize=(6, 5), title='Год выпуска')"
   ]
  },
  {
   "cell_type": "code",
   "execution_count": null,
   "metadata": {
    "collapsed": false
   },
   "outputs": [],
   "source": [
    "df = prepare_df(cnt_faculty_name, len(user_list))\n",
    "df.plot(kind='barh', stacked=True, figsize=(6, 5), title='Название факультета')"
   ]
  },
  {
   "cell_type": "code",
   "execution_count": null,
   "metadata": {
    "collapsed": true
   },
   "outputs": [],
   "source": [
    "from random import shuffle\n",
    "shuffle(user_list)"
   ]
  },
  {
   "cell_type": "code",
   "execution_count": null,
   "metadata": {
    "collapsed": true
   },
   "outputs": [],
   "source": [
    "subset_count = 500"
   ]
  },
  {
   "cell_type": "code",
   "execution_count": null,
   "metadata": {
    "collapsed": false
   },
   "outputs": [],
   "source": [
    "%%time\n",
    "lib_vk.vk = vk_old\n",
    "topgroups_cnt = Counter()\n",
    "for i in range(subset_count):\n",
    "    u = user_list[i]\n",
    "    try:\n",
    "        groups = lib_vk.get_user_groups(u['id'])\n",
    "    except:\n",
    "        pass\n",
    "    topgroups_cnt.update(groups)\n",
    "    if i % 20 == 0:\n",
    "        print(i)"
   ]
  },
  {
   "cell_type": "code",
   "execution_count": null,
   "metadata": {
    "collapsed": true
   },
   "outputs": [],
   "source": [
    "def prepare_groups_df(some_cnt, total_cnt):\n",
    "    indexes = []\n",
    "    vals = []\n",
    "    for v, c in some_cnt.most_common(40):\n",
    "        if int(v) == int(gid):\n",
    "            continue\n",
    "        g_name = lib_vk.get_group_info(v)\n",
    "        g_name = g_name['name']\n",
    "        indexes.append(g_name)\n",
    "        vals.append(int(c)*100/total_cnt)        \n",
    "    df_data = {}\n",
    "    df_data['percent'] = pd.Series(vals, index=indexes)\n",
    "    df = pd.DataFrame(df_data)\n",
    "    return df"
   ]
  },
  {
   "cell_type": "code",
   "execution_count": null,
   "metadata": {
    "collapsed": false
   },
   "outputs": [],
   "source": [
    "df = prepare_groups_df(topgroups_cnt, subset_count)\n",
    "df.plot(kind='barh', stacked=True, figsize=(6, 10), title='Популярные сообщества')"
   ]
  },
  {
   "cell_type": "code",
   "execution_count": null,
   "metadata": {
    "collapsed": false
   },
   "outputs": [],
   "source": [
    "with open('all_users.pkl', 'rb') as f:\n",
    "    all_users = pickle.load(f)"
   ]
  }
 ],
 "metadata": {
  "anaconda-cloud": {},
  "kernelspec": {
   "display_name": "Python [Root]",
   "language": "python",
   "name": "Python [Root]"
  },
  "language_info": {
   "codemirror_mode": {
    "name": "ipython",
    "version": 3
   },
   "file_extension": ".py",
   "mimetype": "text/x-python",
   "name": "python",
   "nbconvert_exporter": "python",
   "pygments_lexer": "ipython3",
   "version": "3.5.2"
  }
 },
 "nbformat": 4,
 "nbformat_minor": 2
}
