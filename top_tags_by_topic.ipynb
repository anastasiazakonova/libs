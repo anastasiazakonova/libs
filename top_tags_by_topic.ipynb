{
 "cells": [
  {
   "cell_type": "code",
   "execution_count": null,
   "metadata": {
    "collapsed": false
   },
   "outputs": [],
   "source": [
    "import lib_process\n",
    "from collections import Counter"
   ]
  },
  {
   "cell_type": "code",
   "execution_count": null,
   "metadata": {
    "collapsed": true
   },
   "outputs": [],
   "source": [
    "import config\n",
    "import psycopg2\n",
    "conn = psycopg2.connect(config.DB_PROD)\n",
    "cur = conn.cursor()"
   ]
  },
  {
   "cell_type": "code",
   "execution_count": null,
   "metadata": {
    "collapsed": false
   },
   "outputs": [],
   "source": [
    "cur.execute(\"SELECT id, text FROM records WHERE customer_id = 2 AND processed = -5 AND DATE(source_created_at) > '2016-11-05' LIMIT 300\")\n",
    "list_from_db = cur.fetchall()"
   ]
  },
  {
   "cell_type": "code",
   "execution_count": null,
   "metadata": {
    "collapsed": true
   },
   "outputs": [],
   "source": [
    "def get_top_objects(rlist):\n",
    "    cntr = Counter()\n",
    "    for line in rlist:\n",
    "        obj_list = lib_process.get_objects(line[1], strmode = False, check_whitelist = False)\n",
    "        cntr.update(obj_list)\n",
    "    return cntr"
   ]
  },
  {
   "cell_type": "code",
   "execution_count": null,
   "metadata": {
    "collapsed": false
   },
   "outputs": [],
   "source": [
    "%%time\n",
    "top_bad = get_top_objects(list_from_db)"
   ]
  },
  {
   "cell_type": "code",
   "execution_count": null,
   "metadata": {
    "collapsed": false
   },
   "outputs": [],
   "source": [
    "top_bad.most_common(200)"
   ]
  },
  {
   "cell_type": "code",
   "execution_count": null,
   "metadata": {
    "collapsed": true
   },
   "outputs": [],
   "source": [
    "cur.execute(\"SELECT id, name FROM topics where customer_id = 2\")\n",
    "topics = cur.fetchall()"
   ]
  },
  {
   "cell_type": "code",
   "execution_count": null,
   "metadata": {
    "collapsed": false
   },
   "outputs": [],
   "source": [
    "topic_ids = []\n",
    "topic_names = {}\n",
    "for t in topics:\n",
    "    topic_ids.append(str(t[0]))\n",
    "    topic_names[t[0]] = t[1]"
   ]
  },
  {
   "cell_type": "code",
   "execution_count": null,
   "metadata": {
    "collapsed": false
   },
   "outputs": [],
   "source": [
    "cur.execute(\"SELECT id, name, topic_id FROM keywords where topic_id in ({0})\".format(','.join(topic_ids)))\n",
    "keywords = cur.fetchall()"
   ]
  },
  {
   "cell_type": "code",
   "execution_count": null,
   "metadata": {
    "collapsed": true
   },
   "outputs": [],
   "source": [
    "topic_keywords = {}\n",
    "for k in keywords:\n",
    "    t_id = k[2]\n",
    "    if not t_id in topic_keywords:\n",
    "        topic_keywords[t_id] = []\n",
    "    topic_keywords[t_id].append(str(k[0]))"
   ]
  },
  {
   "cell_type": "code",
   "execution_count": null,
   "metadata": {
    "collapsed": false
   },
   "outputs": [],
   "source": [
    "for topic_id in topic_keywords:\n",
    "    cur.execute(\"SELECT record_id FROM record_keywords WHERE keyword_id in ({0})\".format(','.join(topic_keywords[topic_id])))\n",
    "    list_from_db = cur.fetchall()\n",
    "    record_ids = []\n",
    "    for line in list_from_db:\n",
    "        record_ids.append(str(line[0]))\n",
    "    cur.execute(\"SELECT id, text, objects FROM records WHERE processed = 1 AND customer_id=7 AND DATE(source_created_at) > '2016-10-12' AND DATE(source_created_at) < '2016-10-21' AND id IN ({0})\".format(','.join(record_ids)))\n",
    "    list_from_db = cur.fetchall()\n",
    "    cntr = Counter()\n",
    "    for line in list_from_db:\n",
    "        cntr.update(line[2])\n",
    "    print('total', len(list_from_db))\n",
    "    print(cntr.most_common(50))"
   ]
  },
  {
   "cell_type": "code",
   "execution_count": null,
   "metadata": {
    "collapsed": false,
    "scrolled": false
   },
   "outputs": [],
   "source": [
    "cntr = 0\n",
    "cntr_good = 0\n",
    "for line in list_from_db:\n",
    "    cntr += 1\n",
    "    if cntr % 100 == 0:\n",
    "        print('>', cntr, cntr_good)\n",
    "    record_id = line[0]\n",
    "    text = line[1]\n",
    "    for keyword_line in keywords:\n",
    "        keyword_id = keyword_line[0]\n",
    "        keyword_line_text = keyword_line[1]\n",
    "        has_all = True\n",
    "        for k in keyword_line_text.split(' '):\n",
    "            if not k in text:\n",
    "                has_all = False\n",
    "                break\n",
    "        if has_all:\n",
    "            try:\n",
    "                cur.execute(\"INSERT INTO record_keywords (record_id, keyword_id) VALUES (%s, %s)\", (record_id, keyword_id))\n",
    "                cntr_good += 1 \n",
    "                break\n",
    "            except:\n",
    "                pass"
   ]
  },
  {
   "cell_type": "code",
   "execution_count": null,
   "metadata": {
    "collapsed": false
   },
   "outputs": [],
   "source": [
    "%%time\n",
    "cnt = 0\n",
    "for row in list_from_db:\n",
    "    new_objects = lib_process.get_objects(row[1], strmode=False)\n",
    "    objects_str = '{' + ','.join(new_objects) + '}'\n",
    "    cur.execute(\"UPDATE records SET objects = '{0}', processed=1 WHERE id={1}\".format(objects_str, row[0]))\n",
    "    cnt += 1\n",
    "    if cnt % 10 == 0:\n",
    "        print(cnt)"
   ]
  },
  {
   "cell_type": "code",
   "execution_count": null,
   "metadata": {
    "collapsed": false
   },
   "outputs": [],
   "source": [
    "cur.close()\n",
    "conn.close()"
   ]
  }
 ],
 "metadata": {
  "anaconda-cloud": {},
  "kernelspec": {
   "display_name": "Python [Root]",
   "language": "python",
   "name": "Python [Root]"
  },
  "language_info": {
   "codemirror_mode": {
    "name": "ipython",
    "version": 3
   },
   "file_extension": ".py",
   "mimetype": "text/x-python",
   "name": "python",
   "nbconvert_exporter": "python",
   "pygments_lexer": "ipython3",
   "version": "3.5.2"
  }
 },
 "nbformat": 4,
 "nbformat_minor": 0
}
