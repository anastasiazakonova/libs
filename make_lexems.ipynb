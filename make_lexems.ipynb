{
 "cells": [
  {
   "cell_type": "code",
   "execution_count": null,
   "metadata": {
    "collapsed": false
   },
   "outputs": [],
   "source": [
    "import pymorphy2\n",
    "morph = pymorphy2.MorphAnalyzer()\n",
    "def is_surname(x):\n",
    "    w = morph.parse(x)[0]\n",
    "    if 'Surn' in w.tag:\n",
    "        return True\n",
    "    else:\n",
    "        return False"
   ]
  },
  {
   "cell_type": "code",
   "execution_count": null,
   "metadata": {
    "collapsed": false
   },
   "outputs": [],
   "source": [
    "def make_all(line):\n",
    "    res = []\n",
    "    wrds = line.split()\n",
    "    for langtype in ['nomn', 'gent', 'datv', 'accs', 'ablt', 'loct']:\n",
    "        newforms = []\n",
    "        try:\n",
    "            for w in wrds:\n",
    "                w = w.strip()\n",
    "                w = morph.parse(w)[0]\n",
    "                inflected = w.inflect({langtype})\n",
    "                if inflected:\n",
    "                    w_newform = inflected.word\n",
    "                    if len(w_newform) > 0:\n",
    "                        newforms.append(w_newform)\n",
    "            if len(newforms) > 0:\n",
    "                new_phrase = ' '.join(newforms)\n",
    "                res.append(new_phrase)\n",
    "        except Exception as ex:\n",
    "            print(ex)\n",
    "    return list(set(res))"
   ]
  },
  {
   "cell_type": "code",
   "execution_count": null,
   "metadata": {
    "collapsed": false
   },
   "outputs": [],
   "source": [
    "import psycopg2\n",
    "conn = psycopg2.connect(config.DB_PROD)\n",
    "# conn = psycopg2.connect(config.DB_STAGING)\n",
    "conn.autocommit = True\n",
    "cur = conn.cursor()"
   ]
  },
  {
   "cell_type": "code",
   "execution_count": null,
   "metadata": {
    "collapsed": true
   },
   "outputs": [],
   "source": [
    "cur.execute(\"SELECT id, name FROM keywords WHERE forms = '{}'\")\n",
    "list_from_db = cur.fetchall()"
   ]
  },
  {
   "cell_type": "code",
   "execution_count": null,
   "metadata": {
    "collapsed": false
   },
   "outputs": [],
   "source": [
    "len(list_from_db)"
   ]
  },
  {
   "cell_type": "code",
   "execution_count": null,
   "metadata": {
    "collapsed": false,
    "scrolled": true
   },
   "outputs": [],
   "source": [
    "for kw in list_from_db[0:5000]:\n",
    "    k_id = kw[0]\n",
    "    k_line = kw[1]\n",
    "    forms_arr = make_all(k_line)\n",
    "    if len(forms_arr) > 0:\n",
    "        forms = ','.join(forms_arr)\n",
    "        forms = '{' + forms + '}'\n",
    "        cur.execute(\"UPDATE keywords SET forms = %s WHERE id = %s\", (forms, k_id))\n",
    "    else:\n",
    "        print(k_line, forms_arr)"
   ]
  },
  {
   "cell_type": "code",
   "execution_count": null,
   "metadata": {
    "collapsed": false
   },
   "outputs": [],
   "source": [
    "cur.execute(\"SELECT id, name FROM customer_keywords WHERE forms = '{}'\")\n",
    "list_from_db = cur.fetchall()\n",
    "len(list_from_db)"
   ]
  },
  {
   "cell_type": "code",
   "execution_count": null,
   "metadata": {
    "collapsed": false
   },
   "outputs": [],
   "source": [
    "for kw in list_from_db[0:5000]:\n",
    "    k_id = kw[0]\n",
    "    k_line = kw[1]\n",
    "    forms_arr = make_all(k_line)\n",
    "    if len(forms_arr) > 0:\n",
    "        forms = ','.join(forms_arr)\n",
    "        forms = '{' + forms + '}'\n",
    "        cur.execute(\"UPDATE customer_keywords SET forms = %s WHERE id = %s\", (forms, k_id))\n",
    "    else:\n",
    "        print(k_line, forms_arr)"
   ]
  },
  {
   "cell_type": "code",
   "execution_count": null,
   "metadata": {
    "collapsed": false
   },
   "outputs": [],
   "source": [
    "cur.execute(\"SELECT id, blacklist FROM customer_keywords WHERE blacklist_forms = '{}'\")\n",
    "list_from_db = cur.fetchall()\n",
    "need_process = []\n",
    "for l in list_from_db:\n",
    "    if len(l[1]) > 0:\n",
    "        need_process.append(l)\n",
    "len(need_process)"
   ]
  },
  {
   "cell_type": "code",
   "execution_count": null,
   "metadata": {
    "collapsed": false
   },
   "outputs": [],
   "source": [
    "for kw in need_process[0:5000]:\n",
    "    k_id = kw[0]\n",
    "    k_line = kw[1]\n",
    "    forms_arr = []\n",
    "    for l in k_line:\n",
    "        forms_arr += make_all(l)\n",
    "    if len(forms_arr) > 0:\n",
    "        forms = ','.join(forms_arr)\n",
    "        forms = '{' + forms + '}'\n",
    "        cur.execute(\"UPDATE customer_keywords SET blacklist_forms = %s WHERE id = %s\", (forms, k_id))"
   ]
  },
  {
   "cell_type": "code",
   "execution_count": null,
   "metadata": {
    "collapsed": true
   },
   "outputs": [],
   "source": [
    "cur.close()\n",
    "conn.close()"
   ]
  }
 ],
 "metadata": {
  "anaconda-cloud": {},
  "kernelspec": {
   "display_name": "Python [Root]",
   "language": "python",
   "name": "Python [Root]"
  },
  "language_info": {
   "codemirror_mode": {
    "name": "ipython",
    "version": 3
   },
   "file_extension": ".py",
   "mimetype": "text/x-python",
   "name": "python",
   "nbconvert_exporter": "python",
   "pygments_lexer": "ipython3",
   "version": "3.5.2"
  }
 },
 "nbformat": 4,
 "nbformat_minor": 0
}
