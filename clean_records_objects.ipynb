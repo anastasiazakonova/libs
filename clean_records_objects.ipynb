{
 "cells": [
  {
   "cell_type": "code",
   "execution_count": null,
   "metadata": {
    "collapsed": true
   },
   "outputs": [],
   "source": [
    "import pandas as pd\n",
    "import pymorphy2"
   ]
  },
  {
   "cell_type": "code",
   "execution_count": null,
   "metadata": {
    "collapsed": false
   },
   "outputs": [],
   "source": [
    "import psycopg2\n",
    "conn = psycopg2.connect(\"host= dbname= user= port= password=\")\n",
    "conn.autocommit = True\n",
    "cur = conn.cursor()"
   ]
  },
  {
   "cell_type": "code",
   "execution_count": null,
   "metadata": {
    "collapsed": true
   },
   "outputs": [],
   "source": [
    "cur.execute(\"SELECT * FROM records WHERE customer_id=1\")\n",
    "list_from_db = cur.fetchall()"
   ]
  },
  {
   "cell_type": "code",
   "execution_count": null,
   "metadata": {
    "collapsed": true
   },
   "outputs": [],
   "source": [
    "cur.execute(\"SELECT object FROM customer_objects WHERE customer_id=1\")\n",
    "list2_from_db = cur.fetchall()"
   ]
  },
  {
   "cell_type": "code",
   "execution_count": null,
   "metadata": {
    "collapsed": false
   },
   "outputs": [],
   "source": [
    "df = pd.DataFrame(list_from_db, columns=[\"id\", \"customer_id\", \"source\", \"category\", \"source_id\", \"additional_data\", \"text\", \"sentiment\", \"processed\", \"objects\", \"source_created_at\", \"created_at\", \"updated_at\", \"coverage\", \"coverage_data\", \"author_processed\"])"
   ]
  },
  {
   "cell_type": "code",
   "execution_count": null,
   "metadata": {
    "collapsed": false
   },
   "outputs": [],
   "source": [
    "white_list=[]\n",
    "for elem in list2_from_db:\n",
    "    white_list.append(elem[0])"
   ]
  },
  {
   "cell_type": "code",
   "execution_count": null,
   "metadata": {
    "collapsed": true
   },
   "outputs": [],
   "source": [
    "morph = pymorphy2.MorphAnalyzer()"
   ]
  },
  {
   "cell_type": "code",
   "execution_count": null,
   "metadata": {
    "collapsed": true
   },
   "outputs": [],
   "source": [
    "def is_name(x):\n",
    "    w = morph.parse(x)[0]\n",
    "    if 'Name' in w.tag:\n",
    "        return True\n",
    "    else:\n",
    "        return False"
   ]
  },
  {
   "cell_type": "code",
   "execution_count": null,
   "metadata": {
    "collapsed": true
   },
   "outputs": [],
   "source": [
    "def change_last_name(x):\n",
    "    x1 = x.split(' ')\n",
    "    if len(x1) == 2 and x.find('.') == -1 and is_name(x1[1]) == True:\n",
    "        x2 = x1[1] + ' ' + x1[0]\n",
    "        return x2\n",
    "    else:\n",
    "        return x"
   ]
  },
  {
   "cell_type": "code",
   "execution_count": null,
   "metadata": {
    "collapsed": false
   },
   "outputs": [],
   "source": [
    "def clean_objects(x):\n",
    "    clean_objects=[]\n",
    "    for elem in x:\n",
    "        elem=change_last_name(elem)\n",
    "        if elem in white_list:\n",
    "            clean_objects.append(elem)\n",
    "    return clean_objects"
   ]
  },
  {
   "cell_type": "code",
   "execution_count": null,
   "metadata": {
    "collapsed": true
   },
   "outputs": [],
   "source": [
    "df['objects'] = df['objects'].map(clean_objects)"
   ]
  },
  {
   "cell_type": "code",
   "execution_count": null,
   "metadata": {
    "collapsed": false
   },
   "outputs": [],
   "source": [
    "for row in df.iterrows():\n",
    "    x = row[1]\n",
    "    x['objects'] = '{' + ','.join(x['objects']) + '}'\n",
    "    cur.execute(\"UPDATE records SET objects='{0}' WHERE id={1}\".format(x['objects'],x['id']))"
   ]
  },
  {
   "cell_type": "code",
   "execution_count": null,
   "metadata": {
    "collapsed": true
   },
   "outputs": [],
   "source": [
    "cur.close()\n",
    "conn.close()"
   ]
  }
 ],
 "metadata": {
  "anaconda-cloud": {},
  "kernelspec": {
   "display_name": "Python [Root]",
   "language": "python",
   "name": "Python [Root]"
  },
  "language_info": {
   "codemirror_mode": {
    "name": "ipython",
    "version": 3
   },
   "file_extension": ".py",
   "mimetype": "text/x-python",
   "name": "python",
   "nbconvert_exporter": "python",
   "pygments_lexer": "ipython3",
   "version": "3.5.2"
  }
 },
 "nbformat": 4,
 "nbformat_minor": 0
}
