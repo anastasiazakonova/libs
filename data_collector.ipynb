{
 "cells": [
  {
   "cell_type": "code",
   "execution_count": null,
   "metadata": {
    "collapsed": false
   },
   "outputs": [],
   "source": [
    "import config\n",
    "import lib_db\n",
    "import lib_nlp\n",
    "import datetime\n",
    "import lib_vk\n",
    "import datetime\n",
    "import lib_process\n",
    "from random import shuffle\n",
    "import pandas as pd"
   ]
  },
  {
   "cell_type": "code",
   "execution_count": null,
   "metadata": {
    "collapsed": true
   },
   "outputs": [],
   "source": [
    "from_datetime = datetime.datetime(2017,7,25,0,0,0)"
   ]
  },
  {
   "cell_type": "code",
   "execution_count": null,
   "metadata": {
    "collapsed": true
   },
   "outputs": [],
   "source": [
    "data = {}\n",
    "import gzip, json, pickle\n",
    "datafile = 'saved_data.pkl'\n",
    "def save_data():\n",
    "    global data\n",
    "    with open(datafile, 'wb') as f:\n",
    "        pickle.dump(data, f)\n",
    "        \n",
    "def load_data():\n",
    "    global data\n",
    "    with open(datafile, 'rb') as f:\n",
    "        data = pickle.load(f)"
   ]
  },
  {
   "cell_type": "code",
   "execution_count": null,
   "metadata": {
    "collapsed": false
   },
   "outputs": [],
   "source": [
    "load_data()\n",
    "data[name] = {}"
   ]
  },
  {
   "cell_type": "code",
   "execution_count": null,
   "metadata": {
    "collapsed": true
   },
   "outputs": [],
   "source": [
    "import vk_api\n",
    "access_token = ''\n",
    "vk_session = vk_api.VkApi(token=access_token)\n",
    "vk = vk_session.get_api()\n",
    "lib_vk.vk = vk"
   ]
  },
  {
   "cell_type": "code",
   "execution_count": null,
   "metadata": {
    "collapsed": false
   },
   "outputs": [],
   "source": [
    "def get_posts_vk(domain):\n",
    "    vkposts = []\n",
    "    cur_offset = 0\n",
    "    chunk_size = 100\n",
    "    while True:\n",
    "        chunk = vk.wall.get(domain=domain, count=chunk_size, offset=cur_offset, v=5.68)\n",
    "        chunk = chunk['items']\n",
    "        if len(chunk) == 0:\n",
    "            break\n",
    "        for post in chunk:\n",
    "            post_date = datetime.datetime.fromtimestamp(int(post['date']))\n",
    "            if post_date < from_datetime and post.get('is_pinned', 0) != 1:\n",
    "                return vkposts\n",
    "            if post_date >= from_datetime:\n",
    "                vkposts.append(post)\n",
    "        cur_offset += chunk_size\n",
    "    return vkposts"
   ]
  },
  {
   "cell_type": "code",
   "execution_count": null,
   "metadata": {
    "collapsed": false
   },
   "outputs": [],
   "source": [
    "vkposts = get_posts_vk(urls[name]['vk'])"
   ]
  },
  {
   "cell_type": "code",
   "execution_count": null,
   "metadata": {
    "collapsed": false
   },
   "outputs": [],
   "source": [
    "group_info = lib_vk.get_group_info(urls[name]['vk'])"
   ]
  },
  {
   "cell_type": "code",
   "execution_count": null,
   "metadata": {
    "collapsed": false
   },
   "outputs": [],
   "source": [
    "%%time\n",
    "comment_objects = []\n",
    "for p in vkposts:\n",
    "    owner_id = p['owner_id']\n",
    "    post_id = p['id']\n",
    "    chunk = vk.wall.getComments(owner_id=owner_id, post_id=post_id, count=100, sort='desc', v=5.68)\n",
    "    for c in chunk['items']:\n",
    "        if len(c['text']) > 4:\n",
    "            c['sentiment'] = lib_process.get_sentiment(c['text'], reports_mode=True)\n",
    "        else:\n",
    "            c['sentiment'] = 'unknown'\n",
    "        comment_objects.append(c)"
   ]
  },
  {
   "cell_type": "code",
   "execution_count": null,
   "metadata": {
    "collapsed": true
   },
   "outputs": [],
   "source": [
    "likes = 0\n",
    "reposts = 0\n",
    "comments = 0\n",
    "views = 0\n",
    "for p in vkposts:\n",
    "    likes += p['likes'].get('count', 0)\n",
    "    reposts += p['reposts'].get('count', 0)\n",
    "    comments += p['comments'].get('count', 0)\n",
    "    views += p.get('views', {}).get('count', 0)"
   ]
  },
  {
   "cell_type": "code",
   "execution_count": null,
   "metadata": {
    "collapsed": false
   },
   "outputs": [],
   "source": [
    "len(vkposts), likes, comments, reposts, views, group_info['members_count']"
   ]
  },
  {
   "cell_type": "code",
   "execution_count": null,
   "metadata": {
    "collapsed": false
   },
   "outputs": [],
   "source": [
    "data[name]['vk'] = {'post_count': len(vkposts), 'likes': likes, 'comments': comments, 'reposts': reposts, 'views': views, 'comments_objects': comment_objects, 'posts': vkposts, 'subscribers_count': group_info['members_count']}\n",
    "# 'reliability_data': rel_data, 'reliability_rating': rel_rating"
   ]
  },
  {
   "cell_type": "code",
   "execution_count": null,
   "metadata": {
    "collapsed": false
   },
   "outputs": [],
   "source": [
    "import facebook\n",
    "import requests\n",
    "import dateutil.parser as dateparser\n",
    "import pytz\n",
    "utc=pytz.UTC\n",
    "graph = facebook.GraphAPI(config.TOKEN_FB_PROD)"
   ]
  },
  {
   "cell_type": "code",
   "execution_count": null,
   "metadata": {
    "collapsed": false
   },
   "outputs": [],
   "source": [
    "def get_posts_fb(fb_url):\n",
    "    profile = graph.get_object(fb_url, fields='fan_count,location,picture,name')\n",
    "    fbposts = []\n",
    "    chunk = graph.get_connections(profile['id'], 'posts', fields='from,created_time,message,id,shares,likes.summary(true),comments.summary(true)')\n",
    "    while True:\n",
    "        try:\n",
    "            for post in chunk['data']:\n",
    "                fbposts.append(post)\n",
    "                parsed_time = dateparser.parse(post['created_time']).replace(tzinfo=utc)\n",
    "                if parsed_time < from_datetime.replace(tzinfo=utc):\n",
    "                    return fbposts, profile\n",
    "            chunk = requests.get(chunk['paging']['next']).json()\n",
    "        except KeyError:\n",
    "            break\n",
    "    return fbposts, profile"
   ]
  },
  {
   "cell_type": "code",
   "execution_count": null,
   "metadata": {
    "collapsed": false
   },
   "outputs": [],
   "source": [
    "fbposts, profile = get_posts_fb(urls[name]['fb'])"
   ]
  },
  {
   "cell_type": "code",
   "execution_count": null,
   "metadata": {
    "collapsed": false
   },
   "outputs": [],
   "source": [
    "profile"
   ]
  },
  {
   "cell_type": "code",
   "execution_count": null,
   "metadata": {
    "collapsed": false
   },
   "outputs": [],
   "source": [
    "likes = 0\n",
    "reposts = 0\n",
    "comments = 0\n",
    "for p in fbposts:\n",
    "    likes += p.get('likes').get('summary').get('total_count')\n",
    "    reposts += p.get('shares', {}).get('count', 0)\n",
    "    comments += p.get('comments').get('summary').get('total_count')"
   ]
  },
  {
   "cell_type": "code",
   "execution_count": null,
   "metadata": {
    "collapsed": false
   },
   "outputs": [],
   "source": [
    "len(fbposts), likes, comments, reposts"
   ]
  },
  {
   "cell_type": "code",
   "execution_count": null,
   "metadata": {
    "collapsed": true
   },
   "outputs": [],
   "source": [
    "data[name]['fb'] = {'post_count': len(fbposts), 'likes': likes, 'comments': comments, 'reposts': reposts, 'posts': fbposts, 'subscribers_count': profile['fan_count']}"
   ]
  },
  {
   "cell_type": "code",
   "execution_count": null,
   "metadata": {
    "collapsed": false
   },
   "outputs": [],
   "source": [
    "import tweepy\n",
    "import urllib\n",
    "import base64\n",
    "import json\n",
    "import urllib.parse\n",
    "import urllib.request\n",
    "\n",
    "class AppAuthHandler(tweepy.auth.AuthHandler):\n",
    "    TOKEN_URL = 'https://api.twitter.com/oauth2/token'\n",
    "\n",
    "    def __init__(self, consumer_key, consumer_secret):\n",
    "        token_credential = urllib.parse.quote(consumer_key) + ':' + urllib.parse.quote(consumer_secret)\n",
    "        credential = base64.b64encode(token_credential.encode())\n",
    "\n",
    "        value = {'grant_type': 'client_credentials'}\n",
    "        data = urllib.parse.urlencode(value)\n",
    "        req = urllib.request.Request(self.TOKEN_URL)\n",
    "        req.add_header('Authorization', 'Basic '.encode() + credential)\n",
    "        req.add_header('Content-Type', 'application/x-www-form-urlencoded;charset=UTF-8')\n",
    "\n",
    "        response = urllib.request.urlopen(req, data.encode())\n",
    "        json_response = json.loads(response.read().decode())\n",
    "        self._access_token = json_response['access_token']\n",
    "\n",
    "    def apply_auth(self, url, method, headers, parameters):\n",
    "        headers['Authorization'] = 'Bearer ' + self._access_token"
   ]
  },
  {
   "cell_type": "code",
   "execution_count": null,
   "metadata": {
    "collapsed": false
   },
   "outputs": [],
   "source": [
    "CONSUMER_KEY = ''\n",
    "CONSUMER_SECRET = ''\n",
    "\n",
    "auth = tweepy.AppAuthHandler(CONSUMER_KEY, CONSUMER_SECRET)\n",
    "api = tweepy.API(auth)"
   ]
  },
  {
   "cell_type": "code",
   "execution_count": null,
   "metadata": {
    "collapsed": true
   },
   "outputs": [],
   "source": [
    "already_processed = {}"
   ]
  },
  {
   "cell_type": "code",
   "execution_count": null,
   "metadata": {
    "collapsed": true
   },
   "outputs": [],
   "source": [
    "def find_original_tweet(tweet, client_name):\n",
    "    try:\n",
    "        client_first_reply_date = None\n",
    "        while tweet.in_reply_to_status_id:\n",
    "            p_date = tweet.created_at\n",
    "            if tweet.author.screen_name == client_name:\n",
    "                client_first_reply_date = p_date\n",
    "            tweet = api.get_status(tweet.in_reply_to_status_id)\n",
    "        if already_processed.get(tweet.id):\n",
    "            return\n",
    "        already_processed[tweet.id] = True\n",
    "        print('----')\n",
    "        p_date = tweet.created_at\n",
    "        print('время ответа: ', client_first_reply_date-p_date)\n",
    "        print('twitter.com/{}/status/{}'.format(tweet.author.screen_name, tweet.id))\n",
    "        print(tweet.text)\n",
    "    except:\n",
    "        pass"
   ]
  },
  {
   "cell_type": "code",
   "execution_count": null,
   "metadata": {
    "collapsed": true
   },
   "outputs": [],
   "source": [
    "def get_posts_twitter(user_id):\n",
    "    twposts = []\n",
    "    max_id = False\n",
    "    chunk_size = 100\n",
    "    while True:\n",
    "        if max_id:\n",
    "            chunk = api.user_timeline(screen_name=user_id, count=100, include_rts=False, max_id=max_id)\n",
    "        else:\n",
    "            chunk = api.user_timeline(screen_name=user_id, count=100, include_rts=False)\n",
    "        if len(chunk) == 0:\n",
    "            break\n",
    "        for post in chunk:\n",
    "            post_date = post.created_at\n",
    "            if post_date < from_datetime:\n",
    "                return twposts\n",
    "            if not post.in_reply_to_status_id:\n",
    "                twposts.append(post)\n",
    "            else:\n",
    "                find_original_tweet(post, user_id)\n",
    "            max_id = post.id\n",
    "    return twposts"
   ]
  },
  {
   "cell_type": "code",
   "execution_count": null,
   "metadata": {
    "collapsed": false,
    "scrolled": false
   },
   "outputs": [],
   "source": [
    "tweets = get_posts_twitter(urls[name]['twitter'])"
   ]
  },
  {
   "cell_type": "code",
   "execution_count": null,
   "metadata": {
    "collapsed": false
   },
   "outputs": [],
   "source": [
    "likes = 0\n",
    "reposts = 0\n",
    "for p in tweets:\n",
    "    likes += p.favorite_count\n",
    "    reposts += p.retweet_count"
   ]
  },
  {
   "cell_type": "code",
   "execution_count": null,
   "metadata": {
    "collapsed": false
   },
   "outputs": [],
   "source": [
    "len(tweets), likes, reposts"
   ]
  },
  {
   "cell_type": "code",
   "execution_count": null,
   "metadata": {
    "collapsed": false
   },
   "outputs": [],
   "source": [
    "tweets[0].author.followers_count"
   ]
  },
  {
   "cell_type": "code",
   "execution_count": null,
   "metadata": {
    "collapsed": true
   },
   "outputs": [],
   "source": [
    "data[name]['twitter'] = {'post_count': len(tweets), 'likes': likes, 'reposts': reposts, 'posts': tweets, 'subscribers_count': tweets[0].author.followers_count}"
   ]
  },
  {
   "cell_type": "code",
   "execution_count": null,
   "metadata": {
    "collapsed": true
   },
   "outputs": [],
   "source": [
    "save_data()"
   ]
  }
 ],
 "metadata": {
  "anaconda-cloud": {},
  "kernelspec": {
   "display_name": "Python [Root]",
   "language": "python",
   "name": "Python [Root]"
  },
  "language_info": {
   "codemirror_mode": {
    "name": "ipython",
    "version": 3
   },
   "file_extension": ".py",
   "mimetype": "text/x-python",
   "name": "python",
   "nbconvert_exporter": "python",
   "pygments_lexer": "ipython3",
   "version": "3.5.2"
  }
 },
 "nbformat": 4,
 "nbformat_minor": 2
}
