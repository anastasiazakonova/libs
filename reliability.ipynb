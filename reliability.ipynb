{
 "cells": [
  {
   "cell_type": "code",
   "execution_count": null,
   "metadata": {
    "collapsed": false
   },
   "outputs": [],
   "source": [
    "import config\n",
    "import gzip\n",
    "import lib_db\n",
    "import lib_nlp\n",
    "import datetime\n",
    "import lib_vk\n",
    "import datetime\n",
    "import lib_process\n",
    "import lib.reliability_rating as reliability_rating\n",
    "from random import shuffle\n",
    "import pandas as pd"
   ]
  },
  {
   "cell_type": "code",
   "execution_count": null,
   "metadata": {
    "collapsed": true
   },
   "outputs": [],
   "source": [
    "urls = {'bank':  {'vk': 'bank', 'fb': 'bank', 'twitter': 'bank'}}"
   ]
  },
  {
   "cell_type": "code",
   "execution_count": null,
   "metadata": {
    "collapsed": true
   },
   "outputs": [],
   "source": [
    "import vk_api\n",
    "access_token = ''\n",
    "vk_session = vk_api.VkApi(token = access_token)\n",
    "vk = vk_session.get_api()\n",
    "lib_vk.vk = vk"
   ]
  },
  {
   "cell_type": "code",
   "execution_count": null,
   "metadata": {
    "collapsed": true
   },
   "outputs": [],
   "source": [
    "def get_reliability(gid, count=50):\n",
    "    users = lib_vk.get_group_users(gid, iterations=50, debuglines=True, skip_cache=False, good_sampling_offset=True)\n",
    "    reliability_bank = []\n",
    "    shuffle(users)\n",
    "    good_count = 0\n",
    "    active_count = 0\n",
    "    for u in users[:count]:\n",
    "        r, p_count = reliability_rating.reliability(id=u, need_post_count=True)\n",
    "        reliability_bank.append(r)\n",
    "        if r > 0.2:\n",
    "            good_count += 1\n",
    "        if p_count > 0:\n",
    "            active_count += 1\n",
    "    return reliability_bank, good_count/count, active_count/count"
   ]
  },
  {
   "cell_type": "code",
   "execution_count": null,
   "metadata": {
    "collapsed": true
   },
   "outputs": [],
   "source": [
    "name = 'bank'"
   ]
  },
  {
   "cell_type": "code",
   "execution_count": null,
   "metadata": {
    "collapsed": false
   },
   "outputs": [],
   "source": [
    "%%time\n",
    "res = {}\n",
    "res_active = {}\n",
    "for name in urls:\n",
    "    rel_data, rel_rating, active_rating = get_reliability(urls[name]['vk'], count=200)\n",
    "    res[name] = rel_rating\n",
    "    res_active[name] = active_rating\n",
    "    print(name, rel_rating, active_rating)"
   ]
  },
  {
   "cell_type": "code",
   "execution_count": null,
   "metadata": {
    "collapsed": true
   },
   "outputs": [],
   "source": [
    "import pandas"
   ]
  },
  {
   "cell_type": "code",
   "execution_count": null,
   "metadata": {
    "collapsed": false
   },
   "outputs": [],
   "source": [
    "df = pd.DataFrame.from_dict(res, orient='index')"
   ]
  },
  {
   "cell_type": "code",
   "execution_count": null,
   "metadata": {
    "collapsed": false
   },
   "outputs": [],
   "source": [
    "activity_column = []\n",
    "for i in df.index:\n",
    "    print(i)\n",
    "    activity_column.append(res_active[i])"
   ]
  },
  {
   "cell_type": "code",
   "execution_count": null,
   "metadata": {
    "collapsed": true
   },
   "outputs": [],
   "source": [
    "df['active'] = activity_column"
   ]
  },
  {
   "cell_type": "code",
   "execution_count": null,
   "metadata": {
    "collapsed": false
   },
   "outputs": [],
   "source": [
    "df.sort_values('active', ascending=False)"
   ]
  },
  {
   "cell_type": "code",
   "execution_count": null,
   "metadata": {
    "collapsed": true
   },
   "outputs": [],
   "source": [
    "import matplotlib as mpl\n",
    "# mpl.rc('font', family='Verdana') \n",
    "mpl.rc('font', family='DejaVu Sans') \n",
    "import matplotlib.pyplot as plt\n",
    "%matplotlib inline"
   ]
  },
  {
   "cell_type": "code",
   "execution_count": null,
   "metadata": {
    "collapsed": true
   },
   "outputs": [],
   "source": [
    "cnt = 0\n",
    "def draw_scatter(res, res_active):\n",
    "    points_x = []\n",
    "    points_y = []\n",
    "    names = []\n",
    "    sizes = []\n",
    "    sizes2 = []\n",
    "    for name in res.keys():\n",
    "        points_x.append(res_active[name])\n",
    "        points_y.append(res[name])\n",
    "        names.append(name)\n",
    "        sizes.append(500)\n",
    "#         sizes2.append((d['post_count']) * 2)\n",
    "#     plt.subplots_adjust(bottom = 0.1)\n",
    "#     ax.scatter(points_x, points_y, marker='o', c=range(len(sizes)), s=sizes, cmap=plt.get_cmap('Spectral'))\n",
    "#     ax.scatter(points_x, points_y, marker='o', c=[20]*(len(sizes)), s=sizes, cmap=plt.get_cmap('Greys'))\n",
    "    ax.scatter(points_x, points_y, marker='o', c=[0]*(len(sizes)), s=sizes, cmap=plt.get_cmap('Spectral'))\n",
    "    ax.set_title('Анализ аудитории')\n",
    "    ax.set_xlabel(\"активность\")\n",
    "    ax.set_ylabel(\"достоверность\")\n",
    "\n",
    "    for label, x, y in zip(names, points_x, points_y):\n",
    "        ax.annotate(\n",
    "            label,\n",
    "            xy=(x, y), xytext=(-20, 20),\n",
    "            textcoords='offset points', ha='right', va='bottom',\n",
    "            bbox=dict(boxstyle='round,pad=0.5', fc='yellow', alpha=0.5),\n",
    "            arrowprops=dict(arrowstyle = '->', connectionstyle='arc3,rad=0'))\n",
    "\n",
    "#     plt.subplots_adjust(left=3, right=4, top=3.5, bottom=2)"
   ]
  },
  {
   "cell_type": "code",
   "execution_count": null,
   "metadata": {
    "collapsed": false
   },
   "outputs": [],
   "source": [
    "plt.figure()\n",
    "fig = plt.figure(figsize=(12, 6))\n",
    "ax = fig.add_subplot(1,1,1) # one row, one column, first plot\n",
    "draw_scatter(res, res_active)"
   ]
  }
 ],
 "metadata": {
  "kernelspec": {
   "display_name": "Python [Root]",
   "language": "python",
   "name": "Python [Root]"
  },
  "language_info": {
   "codemirror_mode": {
    "name": "ipython",
    "version": 3
   },
   "file_extension": ".py",
   "mimetype": "text/x-python",
   "name": "python",
   "nbconvert_exporter": "python",
   "pygments_lexer": "ipython3",
   "version": "3.5.2"
  }
 },
 "nbformat": 4,
 "nbformat_minor": 2
}
