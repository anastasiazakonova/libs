{
 "cells": [
  {
   "cell_type": "code",
   "execution_count": null,
   "metadata": {
    "collapsed": true
   },
   "outputs": [],
   "source": [
    "name = ''\n",
    "second = ''\n",
    "surname = ''"
   ]
  },
  {
   "cell_type": "code",
   "execution_count": null,
   "metadata": {
    "collapsed": false
   },
   "outputs": [],
   "source": [
    "to_insert = []\n",
    "to_insert.append(name+' '+surname)\n",
    "to_insert.append(surname+' '+name)\n",
    "to_insert.append(name[0]+' '+surname)\n",
    "to_insert.append(surname+' '+name[0])\n",
    "to_insert.append(name[0]+'. '+surname)\n",
    "to_insert.append(surname+' '+name[0]+'.')\n",
    "to_insert.append(name[0]+'.'+surname)\n",
    "to_insert.append(name+' '+second+' '+surname)\n",
    "to_insert.append(surname+' '+name+' '+second)\n",
    "to_insert.append(name[0]+' '+second[0]+' '+surname)\n",
    "to_insert.append(surname+' '+name[0]+' '+second[0])\n",
    "to_insert.append(name[0]+second[0]+' '+surname)\n",
    "to_insert.append(surname+' '+name[0]+second[0])\n",
    "to_insert.append(name[0]+'.'+' '+second[0]+'.'+' '+surname)\n",
    "to_insert.append(surname+' '+name[0]+'.'+' '+second[0]+'.')\n",
    "to_insert.append(name[0]+'.'+second[0]+'.'+' '+surname)\n",
    "to_insert.append(surname+' '+name[0]+'.'+second[0]+'.')\n",
    "to_insert.append(name[0]+'.'+second[0]+'.'+surname)"
   ]
  },
  {
   "cell_type": "code",
   "execution_count": null,
   "metadata": {
    "collapsed": true
   },
   "outputs": [],
   "source": [
    "import psycopg2\n",
    "conn = psycopg2.connect(\"host= dbname= user= port= password= \")\n",
    "conn.autocommit = True\n",
    "cur = conn.cursor()"
   ]
  },
  {
   "cell_type": "code",
   "execution_count": null,
   "metadata": {
    "collapsed": true
   },
   "outputs": [],
   "source": [
    "i = 0\n",
    "while i<len(to_insert):\n",
    "    cur.execute(\"INSERT INTO customer_keywords (customer_id, name) VALUES (2, '{0}');\".format(to_insert[i]))\n",
    "    i = i+1"
   ]
  },
  {
   "cell_type": "code",
   "execution_count": null,
   "metadata": {
    "collapsed": true
   },
   "outputs": [],
   "source": [
    "cur.close()\n",
    "conn.close()"
   ]
  }
 ],
 "metadata": {
  "anaconda-cloud": {},
  "kernelspec": {
   "display_name": "Python [Root]",
   "language": "python",
   "name": "Python [Root]"
  },
  "language_info": {
   "codemirror_mode": {
    "name": "ipython",
    "version": 3
   },
   "file_extension": ".py",
   "mimetype": "text/x-python",
   "name": "python",
   "nbconvert_exporter": "python",
   "pygments_lexer": "ipython3",
   "version": "3.5.2"
  }
 },
 "nbformat": 4,
 "nbformat_minor": 0
}
