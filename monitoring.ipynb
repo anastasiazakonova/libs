{
 "cells": [
  {
   "cell_type": "code",
   "execution_count": null,
   "metadata": {
    "collapsed": true
   },
   "outputs": [],
   "source": [
    "import psycopg2\n",
    "conn = psycopg2.connect(\"host= dbname= user= port= password= \")\n",
    "cur = conn.cursor()\n",
    "cur.execute(\"SELECT * FROM records WHERE DATE(source_created_at + INTERVAL '3 hour') = CURRENT_DATE - INTERVAL '1 day'\")\n",
    "list_from_db1 = cur.fetchall()\n",
    "cur.execute(\"SELECT * FROM records WHERE DATE(source_created_at + INTERVAL '3 hour') = CURRENT_DATE - INTERVAL '2 day'\")\n",
    "list_from_db2 = cur.fetchall()\n",
    "cur.execute(\"SELECT id, name FROM customers\")\n",
    "list_from_db3 = cur.fetchall()"
   ]
  },
  {
   "cell_type": "code",
   "execution_count": null,
   "metadata": {
    "collapsed": false
   },
   "outputs": [],
   "source": [
    "import pandas as pd\n",
    "df1 = pd.DataFrame(list_from_db1, columns=[\"id\", \"customer_id\", \"source\", \"category\", \"source_id\", \"additional_data\", \"text\", \"sentiment\", \"processed\", \"objects\", \"source_created_at\", \"created_at\", \"updated_at\", \"coverage\", \"coverage_data\", \"author_processed\"])\n",
    "df2 = pd.DataFrame(list_from_db2, columns=[\"id\", \"customer_id\", \"source\", \"category\", \"source_id\", \"additional_data\", \"text\", \"sentiment\", \"processed\", \"objects\", \"source_created_at\", \"created_at\", \"updated_at\", \"coverage\", \"coverage_data\", \"author_processed\"])"
   ]
  },
  {
   "cell_type": "code",
   "execution_count": null,
   "metadata": {
    "collapsed": true
   },
   "outputs": [],
   "source": [
    "df1cust = df1\n",
    "df2cust = df2"
   ]
  },
  {
   "cell_type": "code",
   "execution_count": null,
   "metadata": {
    "collapsed": false
   },
   "outputs": [],
   "source": [
    "customers_map = {}\n",
    "customers = ['All']\n",
    "i=0\n",
    "while i<len(list_from_db3):\n",
    "    x = list_from_db3[i]\n",
    "    customers_map[x[1]] = x[0]\n",
    "    customers.append(x[1])\n",
    "    i=i+1"
   ]
  },
  {
   "cell_type": "code",
   "execution_count": null,
   "metadata": {
    "collapsed": true
   },
   "outputs": [],
   "source": [
    "from transliterate import translit, get_available_language_codes # транслит\n",
    "def traslit(x):\n",
    "    return translit(x, 'ru', reversed=True)"
   ]
  },
  {
   "cell_type": "code",
   "execution_count": null,
   "metadata": {
    "collapsed": true
   },
   "outputs": [],
   "source": [
    "def sign(x):\n",
    "    if x>0:\n",
    "        return '+'+str(x)\n",
    "    else:\n",
    "        return str(x)"
   ]
  },
  {
   "cell_type": "code",
   "execution_count": null,
   "metadata": {
    "collapsed": true
   },
   "outputs": [],
   "source": [
    "def df3_calculate(df1,df2):\n",
    "    df3 = pd.DataFrame({'Customers':customers})\n",
    "    def count_of_records_for_yesterday(x):\n",
    "        if x == 'All':\n",
    "            return len(df1)\n",
    "        else:\n",
    "            return len(df1[(df1.customer_id == customers_map[x])&(df1.processed == 1)])\n",
    "    df3['Count of records for yesterday'] = df3['Customers'].map(count_of_records_for_yesterday)\n",
    "    def count_of_records_for_2_days_ago(x):\n",
    "        if x == 'All':\n",
    "            return len(df2)\n",
    "        else:\n",
    "            return len(df2[(df2.customer_id == customers_map[x])&(df2.processed == 1)])\n",
    "    df3['Count of records for 2 days ago'] = df3['Customers'].map(count_of_records_for_2_days_ago)\n",
    "    def count_of_records_dynamics(x):\n",
    "        if x == 'All':\n",
    "            if len(df1) == len(df2):\n",
    "                return '0%'\n",
    "            elif len(df2) == 0:\n",
    "                return '+100%'\n",
    "            else:\n",
    "                return sign(round((len(df1)/len(df2)-1)*100))+'%'\n",
    "        else:\n",
    "            if len(df1[(df1.customer_id == customers_map[x])&(df1.processed == 1)]) == len(df2[(df2.customer_id == customers_map[x])&(df2.processed == 1)]):\n",
    "                return '0%'\n",
    "            elif len(df2[(df2.customer_id == customers_map[x])&(df2.processed == 1)]) == 0:\n",
    "                return '+100%'\n",
    "            else:\n",
    "                return sign(round((len(df1[(df1.customer_id == customers_map[x])&(df1.processed == 1)])/len(df2[(df2.customer_id == customers_map[x])&(df2.processed == 1)])-1)*100))+'%'\n",
    "    df3['Dynamics'] = df3['Customers'].map(count_of_records_dynamics)\n",
    "    df3['Customers'] = df3['Customers'].map(traslit)\n",
    "    return df3"
   ]
  },
  {
   "cell_type": "code",
   "execution_count": null,
   "metadata": {
    "collapsed": false
   },
   "outputs": [],
   "source": [
    "def df4_calculate(df1,df2):\n",
    "    processed_map = {'Error in processing':-2, 'In process':-1, 'Queue up':0, 'The right topic':1, 'Wrong topic':2, 'Spam':3}\n",
    "    processed = ['Error in processing', 'In process', 'Queue up', 'The right topic', 'Wrong topic', 'Spam']\n",
    "    df4 = pd.DataFrame({'Processed':processed})\n",
    "    def processed_for_yesterday(x):\n",
    "        return len(df1[df1.processed == processed_map[x]])\n",
    "    df4['Count of records for yesterday'] = df4['Processed'].map(processed_for_yesterday)\n",
    "    def processed_for_2_days_ago(x):\n",
    "        return len(df2[df2.processed == processed_map[x]])\n",
    "    df4['Count of records for 2 days ago'] = df4['Processed'].map(processed_for_2_days_ago)\n",
    "    def processed_dynamics(x):\n",
    "        if len(df1[df1.processed == processed_map[x]]) == len(df2[df2.processed == processed_map[x]]):\n",
    "            return '0%'\n",
    "        elif len(df2[df2.processed == processed_map[x]]) == 0:\n",
    "            return '+100%'\n",
    "        else:\n",
    "            return sign(round((len(df1[df1.processed == processed_map[x]])/len(df2[df2.processed == processed_map[x]])-1)*100))+'%'\n",
    "    df4['Dynamics'] = df4['Processed'].map(processed_dynamics)\n",
    "    return df4"
   ]
  },
  {
   "cell_type": "code",
   "execution_count": null,
   "metadata": {
    "collapsed": false
   },
   "outputs": [],
   "source": [
    "def df5_calculate(df1cust,df2cust,customer):\n",
    "    sentiment_map = {'Positive':0, 'Negative':1, 'Neutral':2, 'Undefined':3}\n",
    "    sentiment = ['Positive', 'Negative', 'Neutral', 'Undefined']\n",
    "    sentiment.append(customer)\n",
    "    df5 = pd.DataFrame({'Sentiment':sentiment})\n",
    "    def sentiment_for_yesterday(x):\n",
    "        if x == customer:\n",
    "            return len(df1cust[df1cust.processed == 1])\n",
    "        else:\n",
    "            return len(df1cust[(df1cust.sentiment == sentiment_map[x])&(df1cust.processed == 1)])    \n",
    "    df5['Count of records for yesterday'] = df5['Sentiment'].map(sentiment_for_yesterday)\n",
    "    def sentiment_for_2_days_ago(x):\n",
    "        if x == customer:\n",
    "            return len(df2cust[df2cust.processed == 1])\n",
    "        else:\n",
    "            return len(df2cust[(df2cust.sentiment == sentiment_map[x])&(df2cust.processed == 1)])\n",
    "    df5['Count of records for 2 days ago'] = df5['Sentiment'].map(sentiment_for_2_days_ago)\n",
    "    def sentiment_dynamics(x):\n",
    "        if x == customer:\n",
    "            if len(df1cust[df1cust.processed == 1]) == len(df2cust[df2cust.processed == 1]):\n",
    "                return '0%'\n",
    "            elif len(df2cust[df2cust.processed == 1]) == 0:\n",
    "                return '+100%'\n",
    "            else:\n",
    "                return sign(round((len(df1cust[df1cust.processed == 1])/len(df2cust[df2cust.processed == 1])-1)*100))+'%'\n",
    "        else:\n",
    "            if len(df1cust[(df1cust.sentiment == sentiment_map[x])&(df1cust.processed == 1)]) == len(df2cust[(df2cust.sentiment == sentiment_map[x])&(df2cust.processed == 1)]):\n",
    "                return '0%'\n",
    "            elif len(df2cust[(df2cust.sentiment == sentiment_map[x])&(df2cust.processed == 1)]) == 0:\n",
    "                 return '+100%'\n",
    "            else:\n",
    "                return sign(round((len(df1cust[(df1cust.sentiment == sentiment_map[x])&(df1cust.processed == 1)])/len(df2cust[(df2cust.sentiment == sentiment_map[x])&(df2cust.processed == 1)])-1)*100))+'%'\n",
    "    df5['Dynamics'] = df5['Sentiment'].map(sentiment_dynamics)   \n",
    "    return df5"
   ]
  },
  {
   "cell_type": "code",
   "execution_count": null,
   "metadata": {
    "collapsed": true
   },
   "outputs": [],
   "source": [
    "def df6_calculate(df1cust,customer):\n",
    "    x = df1cust['objects'].values.tolist()\n",
    "    y = []\n",
    "    for row in x:\n",
    "        for elem in row:\n",
    "            y.append(elem)\n",
    "    i = 0\n",
    "    z = {}\n",
    "    while i<len(y):\n",
    "        z[y[i]] = y.count(y[i])\n",
    "        i = i+1\n",
    "    z[customer] = 100000\n",
    "    df6 = pd.DataFrame(list(z.items()),columns=['Objects','Count'])\n",
    "    df6['Objects'] = df6['Objects'].map(traslit)\n",
    "    df6 = df6.sort_values(ascending=False,by=['Count']).head(10)\n",
    "    return df6['Objects']"
   ]
  },
  {
   "cell_type": "code",
   "execution_count": null,
   "metadata": {
    "collapsed": true
   },
   "outputs": [],
   "source": [
    "def df7_calculate(df1,df2):\n",
    "    source_map = {'VK':0, 'Twitter':1, 'YouTube':3}\n",
    "    source = ['VK', 'Twitter', 'YouTube']\n",
    "    df7 = pd.DataFrame({'Source':source})\n",
    "    def source_for_yesterday(x):\n",
    "        return len(df1[df1.source == source_map[x]])\n",
    "    df7['Count of records for yesterday'] = df7['Source'].map(source_for_yesterday)\n",
    "    def source_for_2_days_ago(x):\n",
    "        return len(df2[df2.source == source_map[x]])\n",
    "    df7['Count of records for 2 days ago'] = df7['Source'].map(source_for_2_days_ago)\n",
    "    def source_dynamics(x):\n",
    "        if len(df1[df1.source == source_map[x]]) == len(df2[df2.source == source_map[x]]):\n",
    "            return '0%'\n",
    "        elif len(df2[df2.source == source_map[x]]) == 0:\n",
    "            return '+100%'\n",
    "        else:\n",
    "            return sign(round((len(df1[df1.source == source_map[x]])/len(df2[df2.source == source_map[x]])-1)*100))+'%'\n",
    "    df7['Dynamics'] = df7['Source'].map(source_dynamics)\n",
    "    return df7"
   ]
  },
  {
   "cell_type": "code",
   "execution_count": null,
   "metadata": {
    "collapsed": true
   },
   "outputs": [],
   "source": [
    "def name_png(table_name,customer):\n",
    "    return str(table_name)+str(customer)+'.png'"
   ]
  },
  {
   "cell_type": "code",
   "execution_count": null,
   "metadata": {
    "collapsed": false
   },
   "outputs": [],
   "source": [
    "def save_png(df,table_name,customer):\n",
    "    import matplotlib\n",
    "    matplotlib.use('Agg') # must be before importing matplotlib.pyplot or pylab!\n",
    "    import matplotlib.pyplot as plt\n",
    "    from pandas.tools.plotting import table\n",
    "    import numpy as np\n",
    "    fig, ax = plt.subplots(figsize=(20, 5)) # set size frame\n",
    "    ax.xaxis.set_visible(False)  # hide the x axis\n",
    "    ax.yaxis.set_visible(False)  # hide the y axis\n",
    "    ax.set_frame_on(False)  # no visible frame, uncomment if size is ok\n",
    "    tabla = table(ax, df, loc='upper left', colWidths=[0.25,0.1,0.1,0.1])  # where df is your data frame\n",
    "    tabla.auto_set_font_size(False) # activate set fontsize manually\n",
    "    tabla.set_fontsize(12) # if ++fontsize is necessary ++colWidths\n",
    "    tabla.scale(1.88, 2.5) # change size table\n",
    "    plt.savefig(name_png(table_name,customer), transparent=True)"
   ]
  },
  {
   "cell_type": "code",
   "execution_count": null,
   "metadata": {
    "collapsed": false
   },
   "outputs": [],
   "source": [
    "df = df3_calculate(df1,df2)\n",
    "save_png(df,'Count_of_records_','All')\n",
    "df = df4_calculate(df1,df2)\n",
    "save_png(df,'Processed_','All')\n",
    "df = df7_calculate(df1,df2)\n",
    "save_png(df,'Source_','All')\n",
    "i=1\n",
    "while i<=len(customers):\n",
    "    df1cust = df1[df1.customer_id == i+1]\n",
    "    df2cust = df2[df2.customer_id == i+1]\n",
    "    customer = traslit(customers[i])\n",
    "    df = df5_calculate(df1cust,df2cust,customer)\n",
    "    save_png(df,'Sentiment_',customer)\n",
    "    df = df6_calculate(df1cust,customer)\n",
    "    save_png(df,'Objects_',customer)\n",
    "    i=i+1"
   ]
  }
 ],
 "metadata": {
  "anaconda-cloud": {},
  "kernelspec": {
   "display_name": "Python [Root]",
   "language": "python",
   "name": "Python [Root]"
  },
  "language_info": {
   "codemirror_mode": {
    "name": "ipython",
    "version": 3
   },
   "file_extension": ".py",
   "mimetype": "text/x-python",
   "name": "python",
   "nbconvert_exporter": "python",
   "pygments_lexer": "ipython3",
   "version": "3.5.2"
  }
 },
 "nbformat": 4,
 "nbformat_minor": 0
}
