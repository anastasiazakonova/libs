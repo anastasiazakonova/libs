{
 "cells": [
  {
   "cell_type": "code",
   "execution_count": null,
   "metadata": {
    "collapsed": true
   },
   "outputs": [],
   "source": [
    "import psycopg2\n",
    "conn = psycopg2.connect(\"host= dbname= user= port= password=\")\n",
    "conn.autocommit = True\n",
    "cur = conn.cursor()"
   ]
  },
  {
   "cell_type": "code",
   "execution_count": null,
   "metadata": {
    "collapsed": false
   },
   "outputs": [],
   "source": [
    "cur.execute(\"SELECT * FROM customer_keywords WHERE id>178\")\n",
    "list_from_db = cur.fetchall()\n",
    "import pandas as pd\n",
    "df = pd.DataFrame(list_from_db, columns=[\"id\", \"customer_id\", \"name\", \"forms\", \"blacklist\", \"blacklist_forms\"])"
   ]
  },
  {
   "cell_type": "code",
   "execution_count": null,
   "metadata": {
    "collapsed": true
   },
   "outputs": [],
   "source": [
    "ids = df['id'].values.tolist()\n",
    "names = df['name'].values.tolist()"
   ]
  },
  {
   "cell_type": "code",
   "execution_count": null,
   "metadata": {
    "collapsed": true
   },
   "outputs": [],
   "source": [
    "import config\n",
    "import pymorphy2\n",
    "morph = pymorphy2.MorphAnalyzer()"
   ]
  },
  {
   "cell_type": "code",
   "execution_count": null,
   "metadata": {
    "collapsed": true
   },
   "outputs": [],
   "source": [
    "def make_all(x):\n",
    "    res = []\n",
    "    wrds = x.split()\n",
    "    for langtype in ['nomn', 'gent', 'datv', 'accs', 'ablt', 'loct']:\n",
    "        newforms = []\n",
    "        try:\n",
    "            for w in wrds:\n",
    "                w = w.strip()\n",
    "                w_morph = morph.parse(w)[0]\n",
    "                inflected = w_morph.inflect({langtype})\n",
    "                if inflected:\n",
    "                    w_newform = inflected.word\n",
    "                    if len(w_newform) > 0:\n",
    "                        newforms.append(w_newform)\n",
    "                elif len(wrds) > 1:\n",
    "                    newforms.append(w)\n",
    "            if len(newforms) > 0:\n",
    "                new_phrase = ' '.join(newforms)\n",
    "                res.append(new_phrase)\n",
    "        except Exception as ex:\n",
    "            print(ex)\n",
    "    return list(set(res))"
   ]
  },
  {
   "cell_type": "code",
   "execution_count": null,
   "metadata": {
    "collapsed": false
   },
   "outputs": [],
   "source": [
    "def make_forms(x):\n",
    "    forms_arr = make_all(x)\n",
    "    if len(forms_arr) > 0:\n",
    "        forms = ','.join(forms_arr)\n",
    "        forms = '{' + forms + '}'\n",
    "        return forms\n",
    "    else:\n",
    "        return '{}'"
   ]
  },
  {
   "cell_type": "code",
   "execution_count": null,
   "metadata": {
    "collapsed": true
   },
   "outputs": [],
   "source": [
    "forms = []\n",
    "i = 0\n",
    "while i<len(ids):\n",
    "    forms.append(make_forms(names[i]))\n",
    "    i = i+1"
   ]
  },
  {
   "cell_type": "code",
   "execution_count": null,
   "metadata": {
    "collapsed": false
   },
   "outputs": [],
   "source": [
    "i = 0\n",
    "while i<len(ids):\n",
    "    cur.execute(\"UPDATE customer_keywords SET forms='{1}' WHERE id={0}\".format(ids[i], forms[i]))\n",
    "    i = i+1"
   ]
  },
  {
   "cell_type": "code",
   "execution_count": null,
   "metadata": {
    "collapsed": true
   },
   "outputs": [],
   "source": [
    "cur.close()\n",
    "conn.close()"
   ]
  }
 ],
 "metadata": {
  "anaconda-cloud": {},
  "kernelspec": {
   "display_name": "Python [Root]",
   "language": "python",
   "name": "Python [Root]"
  },
  "language_info": {
   "codemirror_mode": {
    "name": "ipython",
    "version": 3
   },
   "file_extension": ".py",
   "mimetype": "text/x-python",
   "name": "python",
   "nbconvert_exporter": "python",
   "pygments_lexer": "ipython3",
   "version": "3.5.2"
  }
 },
 "nbformat": 4,
 "nbformat_minor": 0
}
