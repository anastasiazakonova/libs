{
 "cells": [
  {
   "cell_type": "code",
   "execution_count": null,
   "metadata": {
    "collapsed": true
   },
   "outputs": [],
   "source": [
    "import pandas as pd"
   ]
  },
  {
   "cell_type": "code",
   "execution_count": null,
   "metadata": {
    "collapsed": false
   },
   "outputs": [],
   "source": [
    "df = pd.read_csv('customer_objects.csv', header=0, sep='\\t')[[\"id\", \"customer_id\", \"object\", \"object_type\", \"object_status\", \"count\", \"object_alias\", \"topic_id_blacklist\"]]"
   ]
  },
  {
   "cell_type": "code",
   "execution_count": null,
   "metadata": {
    "collapsed": false
   },
   "outputs": [],
   "source": [
    "ids = df['id'].values.tolist()\n",
    "customer_ids = df['customer_id'].values.tolist()\n",
    "objects = df['object'].values.tolist()\n",
    "objects_type = df['object_type'].values.tolist()\n",
    "objects_status = df['object_status'].values.tolist()\n",
    "counts = df['count'].values.tolist()\n",
    "objects_alias = df['object_alias'].values.tolist()\n",
    "topics_id_blacklist = df['topic_id_blacklist'].values.tolist()"
   ]
  },
  {
   "cell_type": "code",
   "execution_count": null,
   "metadata": {
    "collapsed": true
   },
   "outputs": [],
   "source": [
    "import psycopg2\n",
    "conn = psycopg2.connect(\"host= dbname= user= port= password= \")\n",
    "conn.autocommit = True\n",
    "cur = conn.cursor()"
   ]
  },
  {
   "cell_type": "code",
   "execution_count": null,
   "metadata": {
    "collapsed": true
   },
   "outputs": [],
   "source": [
    "def change_object(x):\n",
    "    y = x.split(' ')\n",
    "    if len(y) == 2:\n",
    "        if y[1] == 'район' or y[1] == 'область':\n",
    "            return x.capitalize()\n",
    "        if y[0] == 'город':\n",
    "            return y[1]\n",
    "    else:\n",
    "        return x"
   ]
  },
  {
   "cell_type": "code",
   "execution_count": null,
   "metadata": {
    "collapsed": true
   },
   "outputs": [],
   "source": [
    "def prepare_array(x):\n",
    "    if x == '[]':\n",
    "        return '{}'\n",
    "    else:\n",
    "        return '{' + str(x) + '}'"
   ]
  },
  {
   "cell_type": "code",
   "execution_count": null,
   "metadata": {
    "collapsed": false
   },
   "outputs": [],
   "source": [
    "i = 0\n",
    "while i<len(objects):\n",
    "    cur.execute(\"SELECT * FROM customer_objects WHERE object='{0}'\".format(objects[i]))\n",
    "    list_from_db = cur.fetchall()\n",
    "    df2 = pd.DataFrame(list_from_db, columns=[\"id\", \"customer_id\", \"object\", \"object_type\", \"object_status\", \"count\", \"object_alias\", \"topic_id_blacklist\"])\n",
    "    if len(df2) == 0:\n",
    "        cur.execute(\"INSERT INTO customer_objects (customer_id, object, object_type, object_status, count, object_alias, topic_id_blacklist) VALUES (0, '{0}', {1}, {2}, 0, '{3}', '{4}');\".format(objects[i], objects_type[i], objects_status[i], prepare_array(objects_alias[i]), prepare_array(topics_id_blacklist[i])))\n",
    "    else:\n",
    "        alias = df2['object_alias'].values.tolist()[0]\n",
    "        if objects_alias[i] == '[]':\n",
    "            new_array = []\n",
    "        else:\n",
    "            new_array = objects_alias[i].split(',')\n",
    "        alias = alias + new_array\n",
    "        topics = df2['topic_id_blacklist'].values.tolist()[0]\n",
    "        if topics_id_blacklist[i] == '[]':\n",
    "            new_array = []\n",
    "        else:\n",
    "            new_array = topics_id_blacklist[i].split(',')\n",
    "        topics = topics + new_array       \n",
    "        for elem in range(len(alias)):\n",
    "            alias[elem] = str(alias[elem])\n",
    "        alias = set(alias)\n",
    "        alias = list(alias)\n",
    "        alias = ','.join(alias)\n",
    "        for elem in range(len(topics)):\n",
    "            topics[elem] = str(topics[elem])\n",
    "        topics = set(topics)\n",
    "        topics = list(topics)\n",
    "        topics = ','.join(topics)\n",
    "        cur.execute(\"UPDATE customer_objects SET object_type={1}, object_status={2}, count=0, object_alias='{3}', topic_id_blacklist='{4}' WHERE object='{0}'\".format(objects[i], objects_type[i], objects_status[i], prepare_array(alias), prepare_array(topics)))\n",
    "    i=i+1"
   ]
  },
  {
   "cell_type": "code",
   "execution_count": null,
   "metadata": {
    "collapsed": true
   },
   "outputs": [],
   "source": [
    "cur.execute(\"SELECT * FROM customer_objects\")\n",
    "list_from_db = cur.fetchall()\n",
    "df3 = pd.DataFrame(list_from_db, columns=[\"id\", \"customer_id\", \"object\", \"object_type\", \"object_status\", \"count\", \"object_alias\", \"topic_id_blacklist\"])"
   ]
  },
  {
   "cell_type": "code",
   "execution_count": null,
   "metadata": {
    "collapsed": true
   },
   "outputs": [],
   "source": [
    "objects = df3['object'].values.tolist()"
   ]
  },
  {
   "cell_type": "code",
   "execution_count": null,
   "metadata": {
    "collapsed": false
   },
   "outputs": [],
   "source": [
    "alias = df3['object_alias'].values.tolist()"
   ]
  },
  {
   "cell_type": "code",
   "execution_count": null,
   "metadata": {
    "collapsed": false
   },
   "outputs": [],
   "source": [
    "objects_alias = []\n",
    "for row in alias:\n",
    "    for elem in row:\n",
    "        objects_alias.append(elem)\n",
    "objects_alias = set(objects_alias)"
   ]
  },
  {
   "cell_type": "code",
   "execution_count": null,
   "metadata": {
    "collapsed": true
   },
   "outputs": [],
   "source": [
    "for elem in objects:\n",
    "    if elem in objects_alias:\n",
    "        cur.execute(\"UPDATE customer_objects SET object_status=2, count=0 WHERE object='{0}'\".format(elem))"
   ]
  },
  {
   "cell_type": "code",
   "execution_count": null,
   "metadata": {
    "collapsed": true
   },
   "outputs": [],
   "source": [
    "cur.close()\n",
    "conn.close()"
   ]
  }
 ],
 "metadata": {
  "anaconda-cloud": {},
  "kernelspec": {
   "display_name": "Python [Root]",
   "language": "python",
   "name": "Python [Root]"
  },
  "language_info": {
   "codemirror_mode": {
    "name": "ipython",
    "version": 3
   },
   "file_extension": ".py",
   "mimetype": "text/x-python",
   "name": "python",
   "nbconvert_exporter": "python",
   "pygments_lexer": "ipython3",
   "version": "3.5.2"
  }
 },
 "nbformat": 4,
 "nbformat_minor": 0
}
