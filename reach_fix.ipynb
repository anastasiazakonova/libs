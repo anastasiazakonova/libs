{
 "cells": [
  {
   "cell_type": "code",
   "execution_count": null,
   "metadata": {
    "collapsed": true
   },
   "outputs": [],
   "source": [
    "hours_diff_with_gmt = 3"
   ]
  },
  {
   "cell_type": "code",
   "execution_count": null,
   "metadata": {
    "collapsed": true
   },
   "outputs": [],
   "source": [
    "min_wait_hours = 1"
   ]
  },
  {
   "cell_type": "code",
   "execution_count": null,
   "metadata": {
    "collapsed": true
   },
   "outputs": [],
   "source": [
    "import lib_process\n",
    "import config\n",
    "import gzip\n",
    "import lib_db\n",
    "import lib_nlp\n",
    "import datetime\n",
    "import lib_vk\n",
    "import datetime"
   ]
  },
  {
   "cell_type": "code",
   "execution_count": null,
   "metadata": {
    "collapsed": false
   },
   "outputs": [],
   "source": [
    "%%time\n",
    "# Data from database\n",
    "cur_readslave = lib_db.get_cur(staging=False, read_slave=True)\n",
    "cur = lib_db.get_cur(staging=False, read_slave=False)\n",
    "cur_readslave.execute(\"SELECT * FROM records WHERE processed = 1 ORDER BY id DESC LIMIT 5000\")\n",
    "list_from_db = cur_readslave.fetchall()"
   ]
  },
  {
   "cell_type": "code",
   "execution_count": null,
   "metadata": {
    "collapsed": false
   },
   "outputs": [],
   "source": [
    "%%time\n",
    "updated = 0\n",
    "updated_legacy = 0\n",
    "error = 0\n",
    "cnt = 0\n",
    "nowdt = datetime.datetime.now()\n",
    "for l in list_from_db:\n",
    "    cnt += 1\n",
    "    if cnt % 100 == 0:\n",
    "        print(cnt)\n",
    "        print('>>>', updated, updated_legacy, error)\n",
    "    l = dict(l)\n",
    "    updated_after_created = (l['updated_at'] - l['created_at']).total_seconds()\n",
    "    now_after_source_created = (nowdt - l['source_created_at']).total_seconds() - 3600 * hours_diff_with_gmt\n",
    "#     print(updated_after_created, now_after_source_created)\n",
    "    if now_after_source_created > 3600 * min_wait_hours:\n",
    "        if l['coverage'] == 1 or updated_after_created < 1800:\n",
    "            if l['source_id'] == 0:\n",
    "#                 print(l)\n",
    "                reach = lib_vk.get_post_reach(l['source_record_id'])\n",
    "#                 print(reach)\n",
    "                if reach < 1:\n",
    "                    reach = 2\n",
    "                    error += 1\n",
    "                updated += 1\n",
    "            else:\n",
    "                reach = lib_process.calc_coverage(l['id'])\n",
    "                updated_legacy += 1\n",
    "            cur.execute(\"UPDATE records SET coverage = %s WHERE id = %s\", (reach, l['id']))\n",
    "print('>>>', updated, updated_legacy, error)"
   ]
  },
  {
   "cell_type": "code",
   "execution_count": null,
   "metadata": {
    "collapsed": true
   },
   "outputs": [],
   "source": [
    "cur = lib_db.get_cur()\n",
    "cnt = 0\n",
    "for i in range(len(lines)):\n",
    "    l = lines[i]\n",
    "    cnt += 1\n",
    "    if cnt % 100 == 0:\n",
    "        print(cnt)\n",
    "    new_coverage = lib_process.calc_coverage(l['id'])\n",
    "#     print(new_coverage)\n",
    "    if new_coverage > 1 and new_coverage > l['coverage']:\n",
    "#         print(\"UPDATE records SET coverage = %s WHERE id = %s\" % (new_coverage, l['id']))\n",
    "        cur.execute(\"UPDATE records SET coverage = %s WHERE id = %s\", (new_coverage, l['id']))\n",
    "        lines[i]['coverage'] = new_coverage"
   ]
  }
 ],
 "metadata": {
  "anaconda-cloud": {},
  "kernelspec": {
   "display_name": "Python [Root]",
   "language": "python",
   "name": "Python [Root]"
  },
  "language_info": {
   "codemirror_mode": {
    "name": "ipython",
    "version": 3
   },
   "file_extension": ".py",
   "mimetype": "text/x-python",
   "name": "python",
   "nbconvert_exporter": "python",
   "pygments_lexer": "ipython3",
   "version": "3.5.2"
  }
 },
 "nbformat": 4,
 "nbformat_minor": 2
}
